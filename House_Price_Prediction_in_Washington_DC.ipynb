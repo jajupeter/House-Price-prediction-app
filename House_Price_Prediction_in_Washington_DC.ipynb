{
 "cells": [
  {
   "cell_type": "markdown",
   "metadata": {
    "id": "AAeq4qqdhxOM"
   },
   "source": [
    "# **Prediction: House prices in Washington DC**\n",
    "\n",
    "**Objective** : To predict house prices based on sales data from May, 2014 to May, 2015\n",
    "\n",
    "* Dataset includes house sale prices for King County in USA. \n",
    "* Homes that are sold in the time period: May, 2014 and May, 2015.\n",
    "* Data Source: https://www.kaggle.com/harlfoxem/housesalesprediction\n",
    "\n",
    "* Columns:\n",
    "\n",
    "> 1. ida: notation for a house\n",
    "2. date: Date house was sold\n",
    "3. price: Price is prediction target\n",
    "4. bedrooms: Number of Bedrooms/House\n",
    "5. bathrooms: Number of bathrooms/House\n",
    "6. sqft_living: square footage of the home\n",
    "7. sqft_lot: square footage of the lot\n",
    "8. floors: Total floors (levels) in house\n",
    "9. waterfront: House which has a view to a waterfront\n",
    "10. view: Has been viewed\n",
    "11. condition: How good the condition is ( Overall )\n",
    "12. grade: overall grade given to the housing unit, based on King County grading system\n",
    "13. sqft_abovesquare: footage of house apart from basement\n",
    "14. sqft_basement: square footage of the basement\n",
    "15. yr_built: Built Year\n",
    "16. yr_renovated: Year when house was renovated\n",
    "17. zipcode: zip\n",
    "18. lat: Latitude coordinate\n",
    "19. long: Longitude coordinate\n",
    "20. sqft_living15: Living room area in 2015(implies-- some renovations) \n",
    "21. sqft_lot15: lotSize area in 2015(implies-- some renovations)\n"
   ]
  },
  {
   "cell_type": "code",
   "execution_count": 3,
   "metadata": {},
   "outputs": [
    {
     "name": "stdout",
     "output_type": "stream",
     "text": [
      "Collecting numpy\n",
      "  Downloading numpy-2.0.2-cp39-cp39-macosx_14_0_x86_64.whl.metadata (60 kB)\n",
      "Collecting pandas\n",
      "  Downloading pandas-2.3.2-cp39-cp39-macosx_10_9_x86_64.whl.metadata (91 kB)\n",
      "Collecting jupyter\n",
      "  Downloading jupyter-1.1.1-py2.py3-none-any.whl.metadata (2.0 kB)\n",
      "Collecting ipykernel\n",
      "  Downloading ipykernel-6.30.1-py3-none-any.whl.metadata (6.2 kB)\n",
      "Collecting python-dateutil>=2.8.2 (from pandas)\n",
      "  Downloading python_dateutil-2.9.0.post0-py2.py3-none-any.whl.metadata (8.4 kB)\n",
      "Collecting pytz>=2020.1 (from pandas)\n",
      "  Downloading pytz-2025.2-py2.py3-none-any.whl.metadata (22 kB)\n",
      "Collecting tzdata>=2022.7 (from pandas)\n",
      "  Downloading tzdata-2025.2-py2.py3-none-any.whl.metadata (1.4 kB)\n",
      "Collecting notebook (from jupyter)\n",
      "  Downloading notebook-7.4.5-py3-none-any.whl.metadata (10 kB)\n",
      "Collecting jupyter-console (from jupyter)\n",
      "  Downloading jupyter_console-6.6.3-py3-none-any.whl.metadata (5.8 kB)\n",
      "Collecting nbconvert (from jupyter)\n",
      "  Downloading nbconvert-7.16.6-py3-none-any.whl.metadata (8.5 kB)\n",
      "Collecting ipywidgets (from jupyter)\n",
      "  Downloading ipywidgets-8.1.7-py3-none-any.whl.metadata (2.4 kB)\n",
      "Collecting jupyterlab (from jupyter)\n",
      "  Downloading jupyterlab-4.4.7-py3-none-any.whl.metadata (16 kB)\n",
      "Collecting appnope>=0.1.2 (from ipykernel)\n",
      "  Downloading appnope-0.1.4-py2.py3-none-any.whl.metadata (908 bytes)\n",
      "Collecting comm>=0.1.1 (from ipykernel)\n",
      "  Downloading comm-0.2.3-py3-none-any.whl.metadata (3.7 kB)\n",
      "Collecting debugpy>=1.6.5 (from ipykernel)\n",
      "  Downloading debugpy-1.8.17-cp39-cp39-macosx_15_0_x86_64.whl.metadata (1.4 kB)\n",
      "Collecting ipython>=7.23.1 (from ipykernel)\n",
      "  Downloading ipython-8.18.1-py3-none-any.whl.metadata (6.0 kB)\n",
      "Collecting jupyter-client>=8.0.0 (from ipykernel)\n",
      "  Downloading jupyter_client-8.6.3-py3-none-any.whl.metadata (8.3 kB)\n",
      "Collecting jupyter-core!=5.0.*,>=4.12 (from ipykernel)\n",
      "  Downloading jupyter_core-5.8.1-py3-none-any.whl.metadata (1.6 kB)\n",
      "Collecting matplotlib-inline>=0.1 (from ipykernel)\n",
      "  Downloading matplotlib_inline-0.1.7-py3-none-any.whl.metadata (3.9 kB)\n",
      "Collecting nest-asyncio>=1.4 (from ipykernel)\n",
      "  Downloading nest_asyncio-1.6.0-py3-none-any.whl.metadata (2.8 kB)\n",
      "Collecting packaging>=22 (from ipykernel)\n",
      "  Downloading packaging-25.0-py3-none-any.whl.metadata (3.3 kB)\n",
      "Collecting psutil>=5.7 (from ipykernel)\n",
      "  Downloading psutil-7.1.0-cp36-abi3-macosx_10_9_x86_64.whl.metadata (23 kB)\n",
      "Collecting pyzmq>=25 (from ipykernel)\n",
      "  Downloading pyzmq-27.1.0-cp39-cp39-macosx_10_15_universal2.whl.metadata (6.0 kB)\n",
      "Collecting tornado>=6.2 (from ipykernel)\n",
      "  Downloading tornado-6.5.2-cp39-abi3-macosx_10_9_x86_64.whl.metadata (2.8 kB)\n",
      "Collecting traitlets>=5.4.0 (from ipykernel)\n",
      "  Downloading traitlets-5.14.3-py3-none-any.whl.metadata (10 kB)\n",
      "Collecting decorator (from ipython>=7.23.1->ipykernel)\n",
      "  Downloading decorator-5.2.1-py3-none-any.whl.metadata (3.9 kB)\n",
      "Collecting jedi>=0.16 (from ipython>=7.23.1->ipykernel)\n",
      "  Downloading jedi-0.19.2-py2.py3-none-any.whl.metadata (22 kB)\n",
      "Collecting prompt-toolkit<3.1.0,>=3.0.41 (from ipython>=7.23.1->ipykernel)\n",
      "  Downloading prompt_toolkit-3.0.52-py3-none-any.whl.metadata (6.4 kB)\n",
      "Collecting pygments>=2.4.0 (from ipython>=7.23.1->ipykernel)\n",
      "  Downloading pygments-2.19.2-py3-none-any.whl.metadata (2.5 kB)\n",
      "Collecting stack-data (from ipython>=7.23.1->ipykernel)\n",
      "  Downloading stack_data-0.6.3-py3-none-any.whl.metadata (18 kB)\n",
      "Collecting typing-extensions (from ipython>=7.23.1->ipykernel)\n",
      "  Downloading typing_extensions-4.15.0-py3-none-any.whl.metadata (3.3 kB)\n",
      "Collecting exceptiongroup (from ipython>=7.23.1->ipykernel)\n",
      "  Downloading exceptiongroup-1.3.0-py3-none-any.whl.metadata (6.7 kB)\n",
      "Collecting pexpect>4.3 (from ipython>=7.23.1->ipykernel)\n",
      "  Downloading pexpect-4.9.0-py2.py3-none-any.whl.metadata (2.5 kB)\n",
      "Collecting wcwidth (from prompt-toolkit<3.1.0,>=3.0.41->ipython>=7.23.1->ipykernel)\n",
      "  Downloading wcwidth-0.2.13-py2.py3-none-any.whl.metadata (14 kB)\n",
      "Collecting parso<0.9.0,>=0.8.4 (from jedi>=0.16->ipython>=7.23.1->ipykernel)\n",
      "  Downloading parso-0.8.5-py2.py3-none-any.whl.metadata (8.3 kB)\n",
      "Collecting importlib-metadata>=4.8.3 (from jupyter-client>=8.0.0->ipykernel)\n",
      "  Downloading importlib_metadata-8.7.0-py3-none-any.whl.metadata (4.8 kB)\n",
      "Collecting zipp>=3.20 (from importlib-metadata>=4.8.3->jupyter-client>=8.0.0->ipykernel)\n",
      "  Downloading zipp-3.23.0-py3-none-any.whl.metadata (3.6 kB)\n",
      "Collecting platformdirs>=2.5 (from jupyter-core!=5.0.*,>=4.12->ipykernel)\n",
      "  Downloading platformdirs-4.4.0-py3-none-any.whl.metadata (12 kB)\n",
      "Collecting ptyprocess>=0.5 (from pexpect>4.3->ipython>=7.23.1->ipykernel)\n",
      "  Downloading ptyprocess-0.7.0-py2.py3-none-any.whl.metadata (1.3 kB)\n",
      "Collecting six>=1.5 (from python-dateutil>=2.8.2->pandas)\n",
      "  Downloading six-1.17.0-py2.py3-none-any.whl.metadata (1.7 kB)\n",
      "Collecting widgetsnbextension~=4.0.14 (from ipywidgets->jupyter)\n",
      "  Downloading widgetsnbextension-4.0.14-py3-none-any.whl.metadata (1.6 kB)\n",
      "Collecting jupyterlab_widgets~=3.0.15 (from ipywidgets->jupyter)\n",
      "  Downloading jupyterlab_widgets-3.0.15-py3-none-any.whl.metadata (20 kB)\n",
      "Collecting async-lru>=1.0.0 (from jupyterlab->jupyter)\n",
      "  Downloading async_lru-2.0.5-py3-none-any.whl.metadata (4.5 kB)\n",
      "Collecting httpx<1,>=0.25.0 (from jupyterlab->jupyter)\n",
      "  Downloading httpx-0.28.1-py3-none-any.whl.metadata (7.1 kB)\n",
      "Collecting jinja2>=3.0.3 (from jupyterlab->jupyter)\n",
      "  Downloading jinja2-3.1.6-py3-none-any.whl.metadata (2.9 kB)\n",
      "Collecting jupyter-lsp>=2.0.0 (from jupyterlab->jupyter)\n",
      "  Downloading jupyter_lsp-2.3.0-py3-none-any.whl.metadata (1.8 kB)\n",
      "Collecting jupyter-server<3,>=2.4.0 (from jupyterlab->jupyter)\n",
      "  Downloading jupyter_server-2.17.0-py3-none-any.whl.metadata (8.5 kB)\n",
      "Collecting jupyterlab-server<3,>=2.27.1 (from jupyterlab->jupyter)\n",
      "  Downloading jupyterlab_server-2.27.3-py3-none-any.whl.metadata (5.9 kB)\n",
      "Collecting notebook-shim>=0.2 (from jupyterlab->jupyter)\n",
      "  Downloading notebook_shim-0.2.4-py3-none-any.whl.metadata (4.0 kB)\n",
      "Collecting setuptools>=41.1.0 (from jupyterlab->jupyter)\n",
      "  Downloading setuptools-80.9.0-py3-none-any.whl.metadata (6.6 kB)\n",
      "Collecting tomli>=1.2.2 (from jupyterlab->jupyter)\n",
      "  Downloading tomli-2.2.1-py3-none-any.whl.metadata (10 kB)\n",
      "Collecting anyio (from httpx<1,>=0.25.0->jupyterlab->jupyter)\n",
      "  Downloading anyio-4.10.0-py3-none-any.whl.metadata (4.0 kB)\n",
      "Collecting certifi (from httpx<1,>=0.25.0->jupyterlab->jupyter)\n",
      "  Downloading certifi-2025.8.3-py3-none-any.whl.metadata (2.4 kB)\n",
      "Collecting httpcore==1.* (from httpx<1,>=0.25.0->jupyterlab->jupyter)\n",
      "  Downloading httpcore-1.0.9-py3-none-any.whl.metadata (21 kB)\n",
      "Collecting idna (from httpx<1,>=0.25.0->jupyterlab->jupyter)\n",
      "  Downloading idna-3.10-py3-none-any.whl.metadata (10 kB)\n",
      "Collecting h11>=0.16 (from httpcore==1.*->httpx<1,>=0.25.0->jupyterlab->jupyter)\n",
      "  Downloading h11-0.16.0-py3-none-any.whl.metadata (8.3 kB)\n",
      "Collecting argon2-cffi>=21.1 (from jupyter-server<3,>=2.4.0->jupyterlab->jupyter)\n",
      "  Downloading argon2_cffi-25.1.0-py3-none-any.whl.metadata (4.1 kB)\n",
      "Collecting jupyter-events>=0.11.0 (from jupyter-server<3,>=2.4.0->jupyterlab->jupyter)\n",
      "  Downloading jupyter_events-0.12.0-py3-none-any.whl.metadata (5.8 kB)\n",
      "Collecting jupyter-server-terminals>=0.4.4 (from jupyter-server<3,>=2.4.0->jupyterlab->jupyter)\n",
      "  Downloading jupyter_server_terminals-0.5.3-py3-none-any.whl.metadata (5.6 kB)\n",
      "Collecting nbformat>=5.3.0 (from jupyter-server<3,>=2.4.0->jupyterlab->jupyter)\n",
      "  Downloading nbformat-5.10.4-py3-none-any.whl.metadata (3.6 kB)\n",
      "Collecting overrides>=5.0 (from jupyter-server<3,>=2.4.0->jupyterlab->jupyter)\n",
      "  Downloading overrides-7.7.0-py3-none-any.whl.metadata (5.8 kB)\n",
      "Collecting prometheus-client>=0.9 (from jupyter-server<3,>=2.4.0->jupyterlab->jupyter)\n",
      "  Downloading prometheus_client-0.23.1-py3-none-any.whl.metadata (1.9 kB)\n",
      "Collecting send2trash>=1.8.2 (from jupyter-server<3,>=2.4.0->jupyterlab->jupyter)\n",
      "  Downloading Send2Trash-1.8.3-py3-none-any.whl.metadata (4.0 kB)\n",
      "Collecting terminado>=0.8.3 (from jupyter-server<3,>=2.4.0->jupyterlab->jupyter)\n",
      "  Downloading terminado-0.18.1-py3-none-any.whl.metadata (5.8 kB)\n",
      "Collecting websocket-client>=1.7 (from jupyter-server<3,>=2.4.0->jupyterlab->jupyter)\n",
      "  Downloading websocket_client-1.8.0-py3-none-any.whl.metadata (8.0 kB)\n",
      "Collecting babel>=2.10 (from jupyterlab-server<3,>=2.27.1->jupyterlab->jupyter)\n",
      "  Downloading babel-2.17.0-py3-none-any.whl.metadata (2.0 kB)\n",
      "Collecting json5>=0.9.0 (from jupyterlab-server<3,>=2.27.1->jupyterlab->jupyter)\n",
      "  Downloading json5-0.12.1-py3-none-any.whl.metadata (36 kB)\n",
      "Collecting jsonschema>=4.18.0 (from jupyterlab-server<3,>=2.27.1->jupyterlab->jupyter)\n",
      "  Downloading jsonschema-4.25.1-py3-none-any.whl.metadata (7.6 kB)\n",
      "Collecting requests>=2.31 (from jupyterlab-server<3,>=2.27.1->jupyterlab->jupyter)\n",
      "  Downloading requests-2.32.5-py3-none-any.whl.metadata (4.9 kB)\n",
      "Collecting sniffio>=1.1 (from anyio->httpx<1,>=0.25.0->jupyterlab->jupyter)\n",
      "  Downloading sniffio-1.3.1-py3-none-any.whl.metadata (3.9 kB)\n",
      "Collecting argon2-cffi-bindings (from argon2-cffi>=21.1->jupyter-server<3,>=2.4.0->jupyterlab->jupyter)\n",
      "  Downloading argon2_cffi_bindings-25.1.0-cp39-abi3-macosx_10_9_x86_64.whl.metadata (7.4 kB)\n",
      "Collecting MarkupSafe>=2.0 (from jinja2>=3.0.3->jupyterlab->jupyter)\n",
      "  Downloading MarkupSafe-3.0.2-cp39-cp39-macosx_10_9_universal2.whl.metadata (4.0 kB)\n",
      "Collecting attrs>=22.2.0 (from jsonschema>=4.18.0->jupyterlab-server<3,>=2.27.1->jupyterlab->jupyter)\n",
      "  Downloading attrs-25.3.0-py3-none-any.whl.metadata (10 kB)\n",
      "Collecting jsonschema-specifications>=2023.03.6 (from jsonschema>=4.18.0->jupyterlab-server<3,>=2.27.1->jupyterlab->jupyter)\n",
      "  Downloading jsonschema_specifications-2025.9.1-py3-none-any.whl.metadata (2.9 kB)\n",
      "Collecting referencing>=0.28.4 (from jsonschema>=4.18.0->jupyterlab-server<3,>=2.27.1->jupyterlab->jupyter)\n",
      "  Downloading referencing-0.36.2-py3-none-any.whl.metadata (2.8 kB)\n",
      "Collecting rpds-py>=0.7.1 (from jsonschema>=4.18.0->jupyterlab-server<3,>=2.27.1->jupyterlab->jupyter)\n",
      "  Downloading rpds_py-0.27.1-cp39-cp39-macosx_10_12_x86_64.whl.metadata (4.2 kB)\n",
      "Collecting python-json-logger>=2.0.4 (from jupyter-events>=0.11.0->jupyter-server<3,>=2.4.0->jupyterlab->jupyter)\n",
      "  Downloading python_json_logger-3.3.0-py3-none-any.whl.metadata (4.0 kB)\n",
      "Collecting pyyaml>=5.3 (from jupyter-events>=0.11.0->jupyter-server<3,>=2.4.0->jupyterlab->jupyter)\n",
      "  Downloading PyYAML-6.0.2-cp39-cp39-macosx_10_9_x86_64.whl.metadata (2.1 kB)\n",
      "Collecting rfc3339-validator (from jupyter-events>=0.11.0->jupyter-server<3,>=2.4.0->jupyterlab->jupyter)\n",
      "  Downloading rfc3339_validator-0.1.4-py2.py3-none-any.whl.metadata (1.5 kB)\n",
      "Collecting rfc3986-validator>=0.1.1 (from jupyter-events>=0.11.0->jupyter-server<3,>=2.4.0->jupyterlab->jupyter)\n",
      "  Downloading rfc3986_validator-0.1.1-py2.py3-none-any.whl.metadata (1.7 kB)\n",
      "Collecting fqdn (from jsonschema[format-nongpl]>=4.18.0->jupyter-events>=0.11.0->jupyter-server<3,>=2.4.0->jupyterlab->jupyter)\n",
      "  Downloading fqdn-1.5.1-py3-none-any.whl.metadata (1.4 kB)\n",
      "Collecting isoduration (from jsonschema[format-nongpl]>=4.18.0->jupyter-events>=0.11.0->jupyter-server<3,>=2.4.0->jupyterlab->jupyter)\n",
      "  Downloading isoduration-20.11.0-py3-none-any.whl.metadata (5.7 kB)\n",
      "Collecting jsonpointer>1.13 (from jsonschema[format-nongpl]>=4.18.0->jupyter-events>=0.11.0->jupyter-server<3,>=2.4.0->jupyterlab->jupyter)\n",
      "  Downloading jsonpointer-3.0.0-py2.py3-none-any.whl.metadata (2.3 kB)\n",
      "Collecting rfc3987-syntax>=1.1.0 (from jsonschema[format-nongpl]>=4.18.0->jupyter-events>=0.11.0->jupyter-server<3,>=2.4.0->jupyterlab->jupyter)\n",
      "  Downloading rfc3987_syntax-1.1.0-py3-none-any.whl.metadata (7.7 kB)\n",
      "Collecting uri-template (from jsonschema[format-nongpl]>=4.18.0->jupyter-events>=0.11.0->jupyter-server<3,>=2.4.0->jupyterlab->jupyter)\n",
      "  Downloading uri_template-1.3.0-py3-none-any.whl.metadata (8.8 kB)\n",
      "Collecting webcolors>=24.6.0 (from jsonschema[format-nongpl]>=4.18.0->jupyter-events>=0.11.0->jupyter-server<3,>=2.4.0->jupyterlab->jupyter)\n",
      "  Downloading webcolors-24.11.1-py3-none-any.whl.metadata (2.2 kB)\n",
      "Collecting beautifulsoup4 (from nbconvert->jupyter)\n",
      "  Downloading beautifulsoup4-4.13.5-py3-none-any.whl.metadata (3.8 kB)\n",
      "Collecting bleach!=5.0.0 (from bleach[css]!=5.0.0->nbconvert->jupyter)\n",
      "  Downloading bleach-6.2.0-py3-none-any.whl.metadata (30 kB)\n",
      "Collecting defusedxml (from nbconvert->jupyter)\n",
      "  Downloading defusedxml-0.7.1-py2.py3-none-any.whl.metadata (32 kB)\n",
      "Collecting jupyterlab-pygments (from nbconvert->jupyter)\n",
      "  Downloading jupyterlab_pygments-0.3.0-py3-none-any.whl.metadata (4.4 kB)\n",
      "Collecting mistune<4,>=2.0.3 (from nbconvert->jupyter)\n",
      "  Downloading mistune-3.1.4-py3-none-any.whl.metadata (1.8 kB)\n",
      "Collecting nbclient>=0.5.0 (from nbconvert->jupyter)\n",
      "  Downloading nbclient-0.10.2-py3-none-any.whl.metadata (8.3 kB)\n",
      "Collecting pandocfilters>=1.4.1 (from nbconvert->jupyter)\n",
      "  Downloading pandocfilters-1.5.1-py2.py3-none-any.whl.metadata (9.0 kB)\n",
      "Collecting webencodings (from bleach!=5.0.0->bleach[css]!=5.0.0->nbconvert->jupyter)\n",
      "  Downloading webencodings-0.5.1-py2.py3-none-any.whl.metadata (2.1 kB)\n",
      "Collecting tinycss2<1.5,>=1.1.0 (from bleach[css]!=5.0.0->nbconvert->jupyter)\n",
      "  Downloading tinycss2-1.4.0-py3-none-any.whl.metadata (3.0 kB)\n",
      "Collecting fastjsonschema>=2.15 (from nbformat>=5.3.0->jupyter-server<3,>=2.4.0->jupyterlab->jupyter)\n",
      "  Downloading fastjsonschema-2.21.2-py3-none-any.whl.metadata (2.3 kB)\n",
      "Collecting charset_normalizer<4,>=2 (from requests>=2.31->jupyterlab-server<3,>=2.27.1->jupyterlab->jupyter)\n",
      "  Downloading charset_normalizer-3.4.3-cp39-cp39-macosx_10_9_universal2.whl.metadata (36 kB)\n",
      "Collecting urllib3<3,>=1.21.1 (from requests>=2.31->jupyterlab-server<3,>=2.27.1->jupyterlab->jupyter)\n",
      "  Downloading urllib3-2.5.0-py3-none-any.whl.metadata (6.5 kB)\n",
      "Collecting lark>=1.2.2 (from rfc3987-syntax>=1.1.0->jsonschema[format-nongpl]>=4.18.0->jupyter-events>=0.11.0->jupyter-server<3,>=2.4.0->jupyterlab->jupyter)\n",
      "  Downloading lark-1.2.2-py3-none-any.whl.metadata (1.8 kB)\n",
      "Collecting cffi>=1.0.1 (from argon2-cffi-bindings->argon2-cffi>=21.1->jupyter-server<3,>=2.4.0->jupyterlab->jupyter)\n",
      "  Downloading cffi-2.0.0-cp39-cp39-macosx_10_13_x86_64.whl.metadata (2.6 kB)\n",
      "Collecting pycparser (from cffi>=1.0.1->argon2-cffi-bindings->argon2-cffi>=21.1->jupyter-server<3,>=2.4.0->jupyterlab->jupyter)\n",
      "  Downloading pycparser-2.23-py3-none-any.whl.metadata (993 bytes)\n",
      "Collecting soupsieve>1.2 (from beautifulsoup4->nbconvert->jupyter)\n",
      "  Downloading soupsieve-2.8-py3-none-any.whl.metadata (4.6 kB)\n",
      "Collecting arrow>=0.15.0 (from isoduration->jsonschema[format-nongpl]>=4.18.0->jupyter-events>=0.11.0->jupyter-server<3,>=2.4.0->jupyterlab->jupyter)\n",
      "  Downloading arrow-1.3.0-py3-none-any.whl.metadata (7.5 kB)\n",
      "Collecting types-python-dateutil>=2.8.10 (from arrow>=0.15.0->isoduration->jsonschema[format-nongpl]>=4.18.0->jupyter-events>=0.11.0->jupyter-server<3,>=2.4.0->jupyterlab->jupyter)\n",
      "  Downloading types_python_dateutil-2.9.0.20250822-py3-none-any.whl.metadata (1.8 kB)\n",
      "Collecting executing>=1.2.0 (from stack-data->ipython>=7.23.1->ipykernel)\n",
      "  Downloading executing-2.2.1-py2.py3-none-any.whl.metadata (8.9 kB)\n",
      "Collecting asttokens>=2.1.0 (from stack-data->ipython>=7.23.1->ipykernel)\n",
      "  Downloading asttokens-3.0.0-py3-none-any.whl.metadata (4.7 kB)\n",
      "Collecting pure-eval (from stack-data->ipython>=7.23.1->ipykernel)\n",
      "  Downloading pure_eval-0.2.3-py3-none-any.whl.metadata (6.3 kB)\n",
      "Downloading numpy-2.0.2-cp39-cp39-macosx_14_0_x86_64.whl (6.9 MB)\n",
      "\u001b[2K   \u001b[90m━━━━━━━━━━━━━━━━━━━━━━━━━━━━━━━━━━━━━━━━\u001b[0m \u001b[32m6.9/6.9 MB\u001b[0m \u001b[31m63.0 MB/s\u001b[0m  \u001b[33m0:00:00\u001b[0m\n",
      "\u001b[?25hDownloading pandas-2.3.2-cp39-cp39-macosx_10_9_x86_64.whl (11.6 MB)\n",
      "\u001b[2K   \u001b[90m━━━━━━━━━━━━━━━━━━━━━━━━━━━━━━━━━━━━━━━━\u001b[0m \u001b[32m11.6/11.6 MB\u001b[0m \u001b[31m138.2 MB/s\u001b[0m  \u001b[33m0:00:00\u001b[0m\n",
      "\u001b[?25hDownloading jupyter-1.1.1-py2.py3-none-any.whl (2.7 kB)\n",
      "Downloading ipykernel-6.30.1-py3-none-any.whl (117 kB)\n",
      "Downloading appnope-0.1.4-py2.py3-none-any.whl (4.3 kB)\n",
      "Downloading comm-0.2.3-py3-none-any.whl (7.3 kB)\n",
      "Downloading debugpy-1.8.17-cp39-cp39-macosx_15_0_x86_64.whl (2.1 MB)\n",
      "\u001b[2K   \u001b[90m━━━━━━━━━━━━━━━━━━━━━━━━━━━━━━━━━━━━━━━━\u001b[0m \u001b[32m2.1/2.1 MB\u001b[0m \u001b[31m106.2 MB/s\u001b[0m  \u001b[33m0:00:00\u001b[0m\n",
      "\u001b[?25hDownloading ipython-8.18.1-py3-none-any.whl (808 kB)\n",
      "\u001b[2K   \u001b[90m━━━━━━━━━━━━━━━━━━━━━━━━━━━━━━━━━━━━━━━━\u001b[0m \u001b[32m808.2/808.2 kB\u001b[0m \u001b[31m288.6 MB/s\u001b[0m  \u001b[33m0:00:00\u001b[0m\n",
      "\u001b[?25hDownloading prompt_toolkit-3.0.52-py3-none-any.whl (391 kB)\n",
      "Downloading jedi-0.19.2-py2.py3-none-any.whl (1.6 MB)\n",
      "\u001b[2K   \u001b[90m━━━━━━━━━━━━━━━━━━━━━━━━━━━━━━━━━━━━━━━━\u001b[0m \u001b[32m1.6/1.6 MB\u001b[0m \u001b[31m251.4 MB/s\u001b[0m  \u001b[33m0:00:00\u001b[0m\n",
      "\u001b[?25hDownloading parso-0.8.5-py2.py3-none-any.whl (106 kB)\n",
      "Downloading jupyter_client-8.6.3-py3-none-any.whl (106 kB)\n",
      "Downloading importlib_metadata-8.7.0-py3-none-any.whl (27 kB)\n",
      "Downloading jupyter_core-5.8.1-py3-none-any.whl (28 kB)\n",
      "Downloading matplotlib_inline-0.1.7-py3-none-any.whl (9.9 kB)\n",
      "Downloading nest_asyncio-1.6.0-py3-none-any.whl (5.2 kB)\n",
      "Downloading packaging-25.0-py3-none-any.whl (66 kB)\n",
      "Downloading pexpect-4.9.0-py2.py3-none-any.whl (63 kB)\n",
      "Downloading platformdirs-4.4.0-py3-none-any.whl (18 kB)\n",
      "Downloading psutil-7.1.0-cp36-abi3-macosx_10_9_x86_64.whl (245 kB)\n",
      "Downloading ptyprocess-0.7.0-py2.py3-none-any.whl (13 kB)\n",
      "Downloading pygments-2.19.2-py3-none-any.whl (1.2 MB)\n",
      "\u001b[2K   \u001b[90m━━━━━━━━━━━━━━━━━━━━━━━━━━━━━━━━━━━━━━━━\u001b[0m \u001b[32m1.2/1.2 MB\u001b[0m \u001b[31m307.6 MB/s\u001b[0m  \u001b[33m0:00:00\u001b[0m\n",
      "\u001b[?25hDownloading python_dateutil-2.9.0.post0-py2.py3-none-any.whl (229 kB)\n",
      "Downloading pytz-2025.2-py2.py3-none-any.whl (509 kB)\n",
      "Downloading pyzmq-27.1.0-cp39-cp39-macosx_10_15_universal2.whl (1.3 MB)\n",
      "\u001b[2K   \u001b[90m━━━━━━━━━━━━━━━━━━━━━━━━━━━━━━━━━━━━━━━━\u001b[0m \u001b[32m1.3/1.3 MB\u001b[0m \u001b[31m230.2 MB/s\u001b[0m  \u001b[33m0:00:00\u001b[0m\n",
      "\u001b[?25hDownloading six-1.17.0-py2.py3-none-any.whl (11 kB)\n",
      "Downloading tornado-6.5.2-cp39-abi3-macosx_10_9_x86_64.whl (440 kB)\n",
      "Downloading traitlets-5.14.3-py3-none-any.whl (85 kB)\n",
      "Downloading tzdata-2025.2-py2.py3-none-any.whl (347 kB)\n",
      "Downloading zipp-3.23.0-py3-none-any.whl (10 kB)\n",
      "Downloading decorator-5.2.1-py3-none-any.whl (9.2 kB)\n",
      "Downloading exceptiongroup-1.3.0-py3-none-any.whl (16 kB)\n",
      "Downloading typing_extensions-4.15.0-py3-none-any.whl (44 kB)\n",
      "Downloading ipywidgets-8.1.7-py3-none-any.whl (139 kB)\n",
      "Downloading jupyterlab_widgets-3.0.15-py3-none-any.whl (216 kB)\n",
      "Downloading widgetsnbextension-4.0.14-py3-none-any.whl (2.2 MB)\n",
      "\u001b[2K   \u001b[90m━━━━━━━━━━━━━━━━━━━━━━━━━━━━━━━━━━━━━━━━\u001b[0m \u001b[32m2.2/2.2 MB\u001b[0m \u001b[31m153.4 MB/s\u001b[0m  \u001b[33m0:00:00\u001b[0m\n",
      "\u001b[?25hDownloading jupyter_console-6.6.3-py3-none-any.whl (24 kB)\n",
      "Downloading jupyterlab-4.4.7-py3-none-any.whl (12.3 MB)\n",
      "\u001b[2K   \u001b[90m━━━━━━━━━━━━━━━━━━━━━━━━━━━━━━━━━━━━━━━━\u001b[0m \u001b[32m12.3/12.3 MB\u001b[0m \u001b[31m103.0 MB/s\u001b[0m  \u001b[33m0:00:00\u001b[0m\n",
      "\u001b[?25hDownloading httpx-0.28.1-py3-none-any.whl (73 kB)\n",
      "Downloading httpcore-1.0.9-py3-none-any.whl (78 kB)\n",
      "Downloading jupyter_server-2.17.0-py3-none-any.whl (388 kB)\n",
      "Downloading jupyterlab_server-2.27.3-py3-none-any.whl (59 kB)\n",
      "Downloading anyio-4.10.0-py3-none-any.whl (107 kB)\n",
      "Downloading argon2_cffi-25.1.0-py3-none-any.whl (14 kB)\n",
      "Downloading async_lru-2.0.5-py3-none-any.whl (6.1 kB)\n",
      "Downloading babel-2.17.0-py3-none-any.whl (10.2 MB)\n",
      "\u001b[2K   \u001b[90m━━━━━━━━━━━━━━━━━━━━━━━━━━━━━━━━━━━━━━━━\u001b[0m \u001b[32m10.2/10.2 MB\u001b[0m \u001b[31m147.6 MB/s\u001b[0m  \u001b[33m0:00:00\u001b[0m\n",
      "\u001b[?25hDownloading h11-0.16.0-py3-none-any.whl (37 kB)\n",
      "Downloading idna-3.10-py3-none-any.whl (70 kB)\n",
      "Downloading jinja2-3.1.6-py3-none-any.whl (134 kB)\n",
      "Downloading json5-0.12.1-py3-none-any.whl (36 kB)\n",
      "Downloading jsonschema-4.25.1-py3-none-any.whl (90 kB)\n",
      "Downloading attrs-25.3.0-py3-none-any.whl (63 kB)\n",
      "Downloading jsonschema_specifications-2025.9.1-py3-none-any.whl (18 kB)\n",
      "Downloading jupyter_events-0.12.0-py3-none-any.whl (19 kB)\n",
      "Downloading jsonpointer-3.0.0-py2.py3-none-any.whl (7.6 kB)\n",
      "Downloading jupyter_lsp-2.3.0-py3-none-any.whl (76 kB)\n",
      "Downloading jupyter_server_terminals-0.5.3-py3-none-any.whl (13 kB)\n",
      "Downloading MarkupSafe-3.0.2-cp39-cp39-macosx_10_9_universal2.whl (14 kB)\n",
      "Downloading nbconvert-7.16.6-py3-none-any.whl (258 kB)\n",
      "Downloading mistune-3.1.4-py3-none-any.whl (53 kB)\n",
      "Downloading bleach-6.2.0-py3-none-any.whl (163 kB)\n",
      "Downloading tinycss2-1.4.0-py3-none-any.whl (26 kB)\n",
      "Downloading nbclient-0.10.2-py3-none-any.whl (25 kB)\n",
      "Downloading nbformat-5.10.4-py3-none-any.whl (78 kB)\n",
      "Downloading fastjsonschema-2.21.2-py3-none-any.whl (24 kB)\n",
      "Downloading notebook_shim-0.2.4-py3-none-any.whl (13 kB)\n",
      "Downloading overrides-7.7.0-py3-none-any.whl (17 kB)\n",
      "Downloading pandocfilters-1.5.1-py2.py3-none-any.whl (8.7 kB)\n",
      "Downloading prometheus_client-0.23.1-py3-none-any.whl (61 kB)\n",
      "Downloading python_json_logger-3.3.0-py3-none-any.whl (15 kB)\n",
      "Downloading PyYAML-6.0.2-cp39-cp39-macosx_10_9_x86_64.whl (184 kB)\n",
      "Downloading referencing-0.36.2-py3-none-any.whl (26 kB)\n",
      "Downloading requests-2.32.5-py3-none-any.whl (64 kB)\n",
      "Downloading charset_normalizer-3.4.3-cp39-cp39-macosx_10_9_universal2.whl (207 kB)\n",
      "Downloading urllib3-2.5.0-py3-none-any.whl (129 kB)\n",
      "Downloading certifi-2025.8.3-py3-none-any.whl (161 kB)\n",
      "Downloading rfc3986_validator-0.1.1-py2.py3-none-any.whl (4.2 kB)\n",
      "Downloading rfc3987_syntax-1.1.0-py3-none-any.whl (8.0 kB)\n",
      "Downloading lark-1.2.2-py3-none-any.whl (111 kB)\n",
      "Downloading rpds_py-0.27.1-cp39-cp39-macosx_10_12_x86_64.whl (372 kB)\n",
      "Downloading Send2Trash-1.8.3-py3-none-any.whl (18 kB)\n",
      "Downloading setuptools-80.9.0-py3-none-any.whl (1.2 MB)\n",
      "\u001b[2K   \u001b[90m━━━━━━━━━━━━━━━━━━━━━━━━━━━━━━━━━━━━━━━━\u001b[0m \u001b[32m1.2/1.2 MB\u001b[0m \u001b[31m284.2 MB/s\u001b[0m  \u001b[33m0:00:00\u001b[0m\n",
      "\u001b[?25hDownloading sniffio-1.3.1-py3-none-any.whl (10 kB)\n",
      "Downloading terminado-0.18.1-py3-none-any.whl (14 kB)\n",
      "Downloading tomli-2.2.1-py3-none-any.whl (14 kB)\n",
      "Downloading webcolors-24.11.1-py3-none-any.whl (14 kB)\n",
      "Downloading webencodings-0.5.1-py2.py3-none-any.whl (11 kB)\n",
      "Downloading websocket_client-1.8.0-py3-none-any.whl (58 kB)\n",
      "Downloading argon2_cffi_bindings-25.1.0-cp39-abi3-macosx_10_9_x86_64.whl (29 kB)\n",
      "Downloading cffi-2.0.0-cp39-cp39-macosx_10_13_x86_64.whl (184 kB)\n",
      "Downloading beautifulsoup4-4.13.5-py3-none-any.whl (105 kB)\n",
      "Downloading soupsieve-2.8-py3-none-any.whl (36 kB)\n",
      "Downloading defusedxml-0.7.1-py2.py3-none-any.whl (25 kB)\n",
      "Downloading fqdn-1.5.1-py3-none-any.whl (9.1 kB)\n",
      "Downloading isoduration-20.11.0-py3-none-any.whl (11 kB)\n",
      "Downloading arrow-1.3.0-py3-none-any.whl (66 kB)\n",
      "Downloading types_python_dateutil-2.9.0.20250822-py3-none-any.whl (17 kB)\n",
      "Downloading jupyterlab_pygments-0.3.0-py3-none-any.whl (15 kB)\n",
      "Downloading notebook-7.4.5-py3-none-any.whl (14.3 MB)\n",
      "\u001b[2K   \u001b[90m━━━━━━━━━━━━━━━━━━━━━━━━━━━━━━━━━━━━━━━━\u001b[0m \u001b[32m14.3/14.3 MB\u001b[0m \u001b[31m133.4 MB/s\u001b[0m  \u001b[33m0:00:00\u001b[0m\n",
      "\u001b[?25hDownloading pycparser-2.23-py3-none-any.whl (118 kB)\n",
      "Downloading rfc3339_validator-0.1.4-py2.py3-none-any.whl (3.5 kB)\n",
      "Downloading stack_data-0.6.3-py3-none-any.whl (24 kB)\n",
      "Downloading asttokens-3.0.0-py3-none-any.whl (26 kB)\n",
      "Downloading executing-2.2.1-py2.py3-none-any.whl (28 kB)\n",
      "Downloading pure_eval-0.2.3-py3-none-any.whl (11 kB)\n",
      "Downloading uri_template-1.3.0-py3-none-any.whl (11 kB)\n",
      "Downloading wcwidth-0.2.13-py2.py3-none-any.whl (34 kB)\n",
      "Installing collected packages: webencodings, wcwidth, pytz, pure-eval, ptyprocess, fastjsonschema, zipp, widgetsnbextension, websocket-client, webcolors, urllib3, uri-template, tzdata, typing-extensions, types-python-dateutil, traitlets, tornado, tomli, tinycss2, soupsieve, sniffio, six, setuptools, send2trash, rpds-py, rfc3986-validator, pyzmq, pyyaml, pygments, pycparser, psutil, prompt-toolkit, prometheus-client, platformdirs, pexpect, parso, pandocfilters, packaging, overrides, numpy, nest-asyncio, MarkupSafe, lark, jupyterlab_widgets, jupyterlab-pygments, jsonpointer, json5, idna, h11, fqdn, executing, defusedxml, decorator, debugpy, comm, charset_normalizer, certifi, bleach, babel, attrs, asttokens, appnope, terminado, stack-data, rfc3987-syntax, rfc3339-validator, requests, referencing, python-json-logger, python-dateutil, mistune, matplotlib-inline, jupyter-core, jinja2, jedi, importlib-metadata, httpcore, exceptiongroup, cffi, beautifulsoup4, async-lru, pandas, jupyter-server-terminals, jupyter-client, jsonschema-specifications, ipython, arrow, argon2-cffi-bindings, anyio, jsonschema, isoduration, ipywidgets, ipykernel, httpx, argon2-cffi, nbformat, jupyter-console, nbclient, jupyter-events, nbconvert, jupyter-server, notebook-shim, jupyterlab-server, jupyter-lsp, jupyterlab, notebook, jupyter\n",
      "\u001b[2K  Attempting uninstall: webencodings\n",
      "\u001b[2K    Found existing installation: webencodings 0.5.1\n",
      "\u001b[2K    Uninstalling webencodings-0.5.1:\n",
      "\u001b[2K      Successfully uninstalled webencodings-0.5.1[0m \u001b[32m  0/107\u001b[0m [webencodings]\n",
      "\u001b[2K  Attempting uninstall: wcwidth━━━━━━━━━━━━━\u001b[0m \u001b[32m  0/107\u001b[0m [webencodings]\n",
      "\u001b[2K    Found existing installation: wcwidth 0.2.50m \u001b[32m  0/107\u001b[0m [webencodings]\n",
      "\u001b[2K    Uninstalling wcwidth-0.2.5:━━━━━━━━━━━━━\u001b[0m \u001b[32m  0/107\u001b[0m [webencodings]\n",
      "\u001b[2K      Successfully uninstalled wcwidth-0.2.5\u001b[0m \u001b[32m  0/107\u001b[0m [webencodings]\n",
      "\u001b[2K  Attempting uninstall: pytz━━━━━━━━━━━━━━━━\u001b[0m \u001b[32m  0/107\u001b[0m [webencodings]\n",
      "\u001b[2K    Found existing installation: pytz 2022.1\u001b[0m \u001b[32m  0/107\u001b[0m [webencodings]\n",
      "\u001b[2K    Uninstalling pytz-2022.1:━━━━━━━━━━━━━━━━━━━━━━━━━━━━\u001b[0m \u001b[32m  2/107\u001b[0m [pytz]\n",
      "\u001b[2K      Successfully uninstalled pytz-2022.1━━━━━━━━━━━\u001b[0m \u001b[32m  2/107\u001b[0m [pytz]\n",
      "\u001b[2K  Attempting uninstall: ptyprocess━━━━━━━━━━━━━━━━━━━\u001b[0m \u001b[32m  2/107\u001b[0m [pytz]\n",
      "\u001b[2K    Found existing installation: ptyprocess 0.7.0━━━━\u001b[0m \u001b[32m  2/107\u001b[0m [pytz]\n",
      "\u001b[2K    Uninstalling ptyprocess-0.7.0:━━━━━━━━━━━━━━━━━━━\u001b[0m \u001b[32m  2/107\u001b[0m [pytz]\n",
      "\u001b[2K      Successfully uninstalled ptyprocess-0.7.0━━━━━━\u001b[0m \u001b[32m  2/107\u001b[0m [pytz]\n",
      "\u001b[2K  Attempting uninstall: fastjsonschema━━━━━━━━━━━━━━━\u001b[0m \u001b[32m  2/107\u001b[0m [pytz]\n",
      "\u001b[2K    Found existing installation: fastjsonschema 2.16.2[0m \u001b[32m  2/107\u001b[0m [pytz]\n",
      "\u001b[2K    Uninstalling fastjsonschema-2.16.2:━━━━━━━━━━━━━━\u001b[0m \u001b[32m  2/107\u001b[0m [pytz]\n",
      "\u001b[2K      Successfully uninstalled fastjsonschema-2.16.2━\u001b[0m \u001b[32m  2/107\u001b[0m [pytz]\n",
      "\u001b[2K  Attempting uninstall: zipp━━━━━━━━━━━━━━━━━━━━━━━━━\u001b[0m \u001b[32m  2/107\u001b[0m [pytz]\n",
      "\u001b[2K    Found existing installation: zipp 3.8.0━━━━━━━━━━\u001b[0m \u001b[32m  2/107\u001b[0m [pytz]\n",
      "\u001b[2K    Uninstalling zipp-3.8.0:━━━━━━━━━━━━━━━━━━━━━━━━━\u001b[0m \u001b[32m  2/107\u001b[0m [pytz]\n",
      "\u001b[2K      Successfully uninstalled zipp-3.8.0━━━━━━━━━━━━━━━━━━━━━━━━━\u001b[0m \u001b[32m  6/107\u001b[0m [zipp]\n",
      "\u001b[2K  Attempting uninstall: widgetsnbextension━━━━━━━━━━━━━━━━━━━━\u001b[0m \u001b[32m  6/107\u001b[0m [zipp]\n",
      "\u001b[2K    Found existing installation: widgetsnbextension 3.5.2━━━━━\u001b[0m \u001b[32m  6/107\u001b[0m [zipp]\n",
      "\u001b[2K    Uninstalling widgetsnbextension-3.5.2:━━━━━━━━━━━━━━━━━━━━\u001b[0m \u001b[32m  6/107\u001b[0m [zipp]\n",
      "\u001b[2K      Successfully uninstalled widgetsnbextension-3.5.2━━━━━━━\u001b[0m \u001b[32m  6/107\u001b[0m [zipp]\n",
      "\u001b[2K  Attempting uninstall: websocket-client━━━━━━━━━━━━━━━━━━━━━━\u001b[0m \u001b[32m  6/107\u001b[0m [zipp]\n",
      "\u001b[2K    Found existing installation: websocket-client 0.58.0━━━━━━\u001b[0m \u001b[32m  6/107\u001b[0m [zipp]\n",
      "\u001b[2K    Uninstalling websocket-client-0.58.0:━━━━━━━━━━━━━━━━━━━━━\u001b[0m \u001b[32m  6/107\u001b[0m [zipp]\n",
      "\u001b[2K      Successfully uninstalled websocket-client-0.58.0━━━━━━━━\u001b[0m \u001b[32m  6/107\u001b[0m [zipp]\n",
      "\u001b[2K  Attempting uninstall: urllib3━━━━━━━━━━━━━━━━━━━━━━━━━━━━━━━━━━━\u001b[0m \u001b[32m  8/107\u001b[0m [websocket-client]\n",
      "\u001b[2K    Found existing installation: urllib3 1.26.11━━━━━━━━━━━━━━\u001b[0m \u001b[32m  8/107\u001b[0m [websocket-client]\n",
      "\u001b[2K    Uninstalling urllib3-1.26.11:━━━━━━━━━━━━━━━━━━━━━━━━━━━━━\u001b[0m \u001b[32m  8/107\u001b[0m [websocket-client]\n",
      "\u001b[2K      Successfully uninstalled urllib3-1.26.11━━━━━━━━━━━━━━━━\u001b[0m \u001b[32m  8/107\u001b[0m [websocket-client]\n",
      "\u001b[2K  Attempting uninstall: typing-extensions━━━━━━━━━━━━━━━━━━━━━━━━━\u001b[0m \u001b[32m 12/107\u001b[0m [tzdata]lient]\n",
      "\u001b[2K    Found existing installation: typing_extensions 4.15.0━━━━━\u001b[0m \u001b[32m 12/107\u001b[0m [tzdata]\n",
      "\u001b[2K    Uninstalling typing_extensions-4.15.0:━━━━━━━━━━━━━━━━━━━━\u001b[0m \u001b[32m 12/107\u001b[0m [tzdata]\n",
      "\u001b[2K      Successfully uninstalled typing_extensions-4.15.0━━━━━━━━━━━\u001b[0m \u001b[32m 13/107\u001b[0m [typing-extensions]\n",
      "\u001b[2K  Attempting uninstall: traitlets━━━━━━━━━━━━━━━━━━━━━━━━━━━━━\u001b[0m \u001b[32m 13/107\u001b[0m [typing-extensions]\n",
      "\u001b[2K    Found existing installation: traitlets 5.1.1━━━━━━━━━━━━━━\u001b[0m \u001b[32m 13/107\u001b[0m [typing-extensions]\n",
      "\u001b[2K    Uninstalling traitlets-5.1.1:━━━━━━━━━━━━━━━━━━━━━━━━━━━━━\u001b[0m \u001b[32m 13/107\u001b[0m [typing-extensions]\n",
      "\u001b[2K      Successfully uninstalled traitlets-5.1.1━━━━━━━━━━━━━━━━\u001b[0m \u001b[32m 13/107\u001b[0m [typing-extensions]\n",
      "\u001b[2K  Attempting uninstall: tornadom━━━━━━━━━━━━━━━━━━━━━━━━━━━━━━━━━━\u001b[0m \u001b[32m 15/107\u001b[0m [traitlets]ons]\n",
      "\u001b[2K    Found existing installation: tornado 6.1━━━━━━━━━━━━━━━━━━\u001b[0m \u001b[32m 15/107\u001b[0m [traitlets]\n",
      "\u001b[2K    Uninstalling tornado-6.1:━━━━━━━━━━━━━━━━━━━━━━━━━━━━━━━━━\u001b[0m \u001b[32m 15/107\u001b[0m [traitlets]\n",
      "\u001b[2K      Successfully uninstalled tornado-6.1━━━━━━━━━━━━━━━━━━━━\u001b[0m \u001b[32m 15/107\u001b[0m [traitlets]\n",
      "\u001b[2K  Attempting uninstall: tomli90m━━━━━━━━━━━━━━━━━━━━━━━━━━━━━━━━━━\u001b[0m \u001b[32m 16/107\u001b[0m [tornado]\n",
      "\u001b[2K    Found existing installation: tomli 2.0.1━━━━━━━━━━━━━━━━━━\u001b[0m \u001b[32m 16/107\u001b[0m [tornado]\n",
      "\u001b[2K    Uninstalling tomli-2.0.1:━━━━━━━━━━━━━━━━━━━━━━━━━━━━━━━━━\u001b[0m \u001b[32m 16/107\u001b[0m [tornado]\n",
      "\u001b[2K      Successfully uninstalled tomli-2.0.1━━━━━━━━━━━━━━━━━━━━\u001b[0m \u001b[32m 16/107\u001b[0m [tornado]\n",
      "\u001b[2K  Attempting uninstall: soupsieve━━━━━━━━━━━━━━━━━━━━━━━━━━━━━\u001b[0m \u001b[32m 16/107\u001b[0m [tornado]\n",
      "\u001b[2K    Found existing installation: soupsieve 2.3.1━━━━━━━━━━━━━━\u001b[0m \u001b[32m 16/107\u001b[0m [tornado]\n",
      "\u001b[2K    Uninstalling soupsieve-2.3.1:━━━━━━━━━━━━━━━━━━━━━━━━━━━━━\u001b[0m \u001b[32m 16/107\u001b[0m [tornado]\n",
      "\u001b[2K      Successfully uninstalled soupsieve-2.3.1━━━━━━━━━━━━━━━━\u001b[0m \u001b[32m 16/107\u001b[0m [tornado]\n",
      "\u001b[2K  Attempting uninstall: sniffio━━━━━━━━━━━━━━━━━━━━━━━━━━━━━━━\u001b[0m \u001b[32m 16/107\u001b[0m [tornado]\n",
      "\u001b[2K    Found existing installation: sniffio 1.2.0━━━━━━━━━━━━━━━━\u001b[0m \u001b[32m 16/107\u001b[0m [tornado]\n",
      "\u001b[2K    Uninstalling sniffio-1.2.0:━━━━━━━━━━━━━━━━━━━━━━━━━━━━━━━\u001b[0m \u001b[32m 16/107\u001b[0m [tornado]\n",
      "\u001b[2K      Successfully uninstalled sniffio-1.2.0━━━━━━━━━━━━━━━━━━\u001b[0m \u001b[32m 16/107\u001b[0m [tornado]\n",
      "\u001b[2K  Attempting uninstall: sixm━━━━━━━━━━━━━━━━━━━━━━━━━━━━━━━━━━\u001b[0m \u001b[32m 16/107\u001b[0m [tornado]\n",
      "\u001b[2K    Found existing installation: six 1.16.0━━━━━━━━━━━━━━━━━━━\u001b[0m \u001b[32m 16/107\u001b[0m [tornado]\n",
      "\u001b[2K    Uninstalling six-1.16.0:━━━━━━━━━━━━━━━━━━━━━━━━━━━━━━━━━━\u001b[0m \u001b[32m 16/107\u001b[0m [tornado]\n",
      "\u001b[2K      Successfully uninstalled six-1.16.0━━━━━━━━━━━━━━━━━━━━━━━━━\u001b[0m \u001b[32m 21/107\u001b[0m [six]\n",
      "\u001b[2K  Attempting uninstall: setuptools━━━━━━━━━━━━━━━━━━━━━━━━━━━━\u001b[0m \u001b[32m 21/107\u001b[0m [six]\n",
      "\u001b[2K    Found existing installation: setuptools 63.4.1━━━━━━━━━━━━\u001b[0m \u001b[32m 21/107\u001b[0m [six]\n",
      "\u001b[2K    Uninstalling setuptools-63.4.1:━━━━━━━━━━━━━━━━━━━━━━━━━━━\u001b[0m \u001b[32m 21/107\u001b[0m [six]\n",
      "\u001b[2K      Successfully uninstalled setuptools-63.4.1━━━━━━━━━━━━━━━━━━\u001b[0m \u001b[32m 22/107\u001b[0m [setuptools]\n",
      "\u001b[2K  Attempting uninstall: send2trashm━━━━━━━━━━━━━━━━━━━━━━━━━━━━━━━\u001b[0m \u001b[32m 22/107\u001b[0m [setuptools]\n",
      "\u001b[2K    Found existing installation: Send2Trash 1.8.0━━━━━━━━━━━━━\u001b[0m \u001b[32m 22/107\u001b[0m [setuptools]\n",
      "\u001b[2K    Uninstalling Send2Trash-1.8.0:━━━━━━━━━━━━━━━━━━━━━━━━━━━━\u001b[0m \u001b[32m 22/107\u001b[0m [setuptools]\n",
      "\u001b[2K      Successfully uninstalled Send2Trash-1.8.0━━━━━━━━━━━━━━━\u001b[0m \u001b[32m 22/107\u001b[0m [setuptools]\n",
      "\u001b[2K  Attempting uninstall: pyzmq0m━━━━━━━━━━━━━━━━━━━━━━━━━━━━━━━\u001b[0m \u001b[32m 22/107\u001b[0m [setuptools]\n",
      "\u001b[2K    Found existing installation: pyzmq 23.2.0━━━━━━━━━━━━━━━━━\u001b[0m \u001b[32m 22/107\u001b[0m [setuptools]\n",
      "\u001b[2K    Uninstalling pyzmq-23.2.0:m━━━━━━━━━━━━━━━━━━━━━━━━━━━━━━━\u001b[0m \u001b[32m 22/107\u001b[0m [setuptools]\n",
      "\u001b[2K      Successfully uninstalled pyzmq-23.2.0━━━━━━━━━━━━━━━━━━━\u001b[0m \u001b[32m 22/107\u001b[0m [setuptools]\n",
      "\u001b[2K  Attempting uninstall: pyyamlm\u001b[90m━━━━━━━━━━━━━━━━━━━━━━━━━━━━━━\u001b[0m \u001b[32m 26/107\u001b[0m [pyzmq]]\n",
      "\u001b[2K    Found existing installation: PyYAML 6.0━━━━━━━━━━━━━━━━━━━\u001b[0m \u001b[32m 26/107\u001b[0m [pyzmq]\n",
      "\u001b[2K    Uninstalling PyYAML-6.0:[90m━━━━━━━━━━━━━━━━━━━━━━━━━━━━━━\u001b[0m \u001b[32m 26/107\u001b[0m [pyzmq]\n",
      "\u001b[2K      Successfully uninstalled PyYAML-6.0━━━━━━━━━━━━━━━━━━━━━━━━━\u001b[0m \u001b[32m 27/107\u001b[0m [pyyaml]\n",
      "\u001b[2K  Attempting uninstall: pygmentsm━━━━━━━━━━━━━━━━━━━━━━━━━━━━━\u001b[0m \u001b[32m 27/107\u001b[0m [pyyaml]\n",
      "\u001b[2K    Found existing installation: Pygments 2.11.2━━━━━━━━━━━━━━━━━━\u001b[0m \u001b[32m 28/107\u001b[0m [pygments]\n",
      "\u001b[2K    Uninstalling Pygments-2.11.2:━━━━━━━━━━━━━━━━━━━━━━━━━━━━━\u001b[0m \u001b[32m 28/107\u001b[0m [pygments]\n",
      "\u001b[2K      Successfully uninstalled Pygments-2.11.2━━━━━━━━━━━━━━━━\u001b[0m \u001b[32m 28/107\u001b[0m [pygments]\n",
      "\u001b[2K  Attempting uninstall: pycparser[90m━━━━━━━━━━━━━━━━━━━━━━━━━━━━━\u001b[0m \u001b[32m 28/107\u001b[0m [pygments]\n",
      "\u001b[2K    Found existing installation: pycparser 2.21━━━━━━━━━━━━━━━\u001b[0m \u001b[32m 28/107\u001b[0m [pygments]\n",
      "\u001b[2K    Uninstalling pycparser-2.21:m━━━━━━━━━━━━━━━━━━━━━━━━━━━━━\u001b[0m \u001b[32m 28/107\u001b[0m [pygments]\n",
      "\u001b[2K      Successfully uninstalled pycparser-2.21━━━━━━━━━━━━━━━━━\u001b[0m \u001b[32m 28/107\u001b[0m [pygments]\n",
      "\u001b[2K  Attempting uninstall: psutil0m\u001b[90m━━━━━━━━━━━━━━━━━━━━━━━━━━━━━\u001b[0m \u001b[32m 29/107\u001b[0m [pycparser]\n",
      "\u001b[2K    Found existing installation: psutil 5.9.0━━━━━━━━━━━━━━━━━\u001b[0m \u001b[32m 29/107\u001b[0m [pycparser]\n",
      "\u001b[2K    Uninstalling psutil-5.9.0:90m━━━━━━━━━━━━━━━━━━━━━━━━━━━━━\u001b[0m \u001b[32m 29/107\u001b[0m [pycparser]\n",
      "\u001b[2K      Successfully uninstalled psutil-5.9.0━━━━━━━━━━━━━━━━━━━\u001b[0m \u001b[32m 29/107\u001b[0m [pycparser]\n",
      "\u001b[2K  Attempting uninstall: prompt-toolkit━━━━━━━━━━━━━━━━━━━━━━━━\u001b[0m \u001b[32m 29/107\u001b[0m [pycparser]\n",
      "\u001b[2K    Found existing installation: prompt-toolkit 3.0.20━━━━━━━━\u001b[0m \u001b[32m 29/107\u001b[0m [pycparser]\n",
      "\u001b[2K    Uninstalling prompt-toolkit-3.0.20:━━━━━━━━━━━━━━━━━━━━━━━\u001b[0m \u001b[32m 29/107\u001b[0m [pycparser]\n",
      "\u001b[2K      Successfully uninstalled prompt-toolkit-3.0.20━━━━━━━━━━\u001b[0m \u001b[32m 29/107\u001b[0m [pycparser]\n",
      "\u001b[2K  Attempting uninstall: prometheus-client━━━━━━━━━━━━━━━━━━━━━━━━━\u001b[0m \u001b[32m 31/107\u001b[0m [prompt-toolkit]\n",
      "\u001b[2K    Found existing installation: prometheus-client 0.14.1━━━━━\u001b[0m \u001b[32m 31/107\u001b[0m [prompt-toolkit]\n",
      "\u001b[2K    Uninstalling prometheus-client-0.14.1:━━━━━━━━━━━━━━━━━━━━\u001b[0m \u001b[32m 31/107\u001b[0m [prompt-toolkit]\n",
      "\u001b[2K      Successfully uninstalled prometheus-client-0.14.1━━━━━━━\u001b[0m \u001b[32m 31/107\u001b[0m [prompt-toolkit]\n",
      "\u001b[2K  Attempting uninstall: platformdirs━━━━━━━━━━━━━━━━━━━━━━━━━━\u001b[0m \u001b[32m 31/107\u001b[0m [prompt-toolkit]\n",
      "\u001b[2K    Found existing installation: platformdirs 3.10.0━━━━━━━━━━\u001b[0m \u001b[32m 31/107\u001b[0m [prompt-toolkit]\n",
      "\u001b[2K    Uninstalling platformdirs-3.10.0:━━━━━━━━━━━━━━━━━━━━━━━━━\u001b[0m \u001b[32m 31/107\u001b[0m [prompt-toolkit]\n",
      "\u001b[2K      Successfully uninstalled platformdirs-3.10.0━━━━━━━━━━━━\u001b[0m \u001b[32m 31/107\u001b[0m [prompt-toolkit]\n",
      "\u001b[2K  Attempting uninstall: pexpect90m━━━━━━━━━━━━━━━━━━━━━━━━━━━━\u001b[0m \u001b[32m 31/107\u001b[0m [prompt-toolkit]\n",
      "\u001b[2K    Found existing installation: pexpect 4.8.0━━━━━━━━━━━━━━━━\u001b[0m \u001b[32m 31/107\u001b[0m [prompt-toolkit]\n",
      "\u001b[2K    Uninstalling pexpect-4.8.0:90m━━━━━━━━━━━━━━━━━━━━━━━━━━━━\u001b[0m \u001b[32m 31/107\u001b[0m [prompt-toolkit]\n",
      "\u001b[2K      Successfully uninstalled pexpect-4.8.0━━━━━━━━━━━━━━━━━━\u001b[0m \u001b[32m 31/107\u001b[0m [prompt-toolkit]\n",
      "\u001b[2K  Attempting uninstall: parso\u001b[90m━━━━━━━━━━━━━━━━━━━━━━━━━━━━\u001b[0m \u001b[32m 31/107\u001b[0m [prompt-toolkit]\n",
      "\u001b[2K    Found existing installation: parso 0.8.3━━━━━━━━━━━━━━━━━━\u001b[0m \u001b[32m 31/107\u001b[0m [prompt-toolkit]\n",
      "\u001b[2K    Uninstalling parso-0.8.3:\u001b[90m━━━━━━━━━━━━━━━━━━━━━━━━━━━━\u001b[0m \u001b[32m 31/107\u001b[0m [prompt-toolkit]\n",
      "\u001b[2K      Successfully uninstalled parso-0.8.3━━━━━━━━━━━━━━━━━━━━\u001b[0m \u001b[32m 31/107\u001b[0m [prompt-toolkit]\n",
      "\u001b[2K  Attempting uninstall: pandocfilters━━━━━━━━━━━━━━━━━━━━━━━━━\u001b[0m \u001b[32m 31/107\u001b[0m [prompt-toolkit]\n",
      "\u001b[2K    Found existing installation: pandocfilters 1.5.0━━━━━━━━━━\u001b[0m \u001b[32m 31/107\u001b[0m [prompt-toolkit]\n",
      "\u001b[2K    Uninstalling pandocfilters-1.5.0:━━━━━━━━━━━━━━━━━━━━━━━━━\u001b[0m \u001b[32m 31/107\u001b[0m [prompt-toolkit]\n",
      "\u001b[2K      Successfully uninstalled pandocfilters-1.5.0━━━━━━━━━━━━━━━━\u001b[0m \u001b[32m 36/107\u001b[0m [pandocfilters]\n",
      "\u001b[2K  Attempting uninstall: packaging90m━━━━━━━━━━━━━━━━━━━━━━━━━━\u001b[0m \u001b[32m 36/107\u001b[0m [pandocfilters]\n",
      "\u001b[2K    Found existing installation: packaging 21.3━━━━━━━━━━━━━━━\u001b[0m \u001b[32m 36/107\u001b[0m [pandocfilters]\n",
      "\u001b[2K    Uninstalling packaging-21.3:[90m━━━━━━━━━━━━━━━━━━━━━━━━━━\u001b[0m \u001b[32m 36/107\u001b[0m [pandocfilters]\n",
      "\u001b[2K      Successfully uninstalled packaging-21.3━━━━━━━━━━━━━━━━━\u001b[0m \u001b[32m 36/107\u001b[0m [pandocfilters]\n",
      "\u001b[2K  Attempting uninstall: numpy0m\u001b[90m━━━━━━━━━━━━━━━━━━━━━━━━━━\u001b[0m \u001b[32m 36/107\u001b[0m [pandocfilters]\n",
      "\u001b[2K    Found existing installation: numpy 2.0.2━━━━━━━━━━━━━━━━━━\u001b[0m \u001b[32m 36/107\u001b[0m [pandocfilters]\n",
      "\u001b[2K    Uninstalling numpy-2.0.2:1m╸\u001b[0m\u001b[90m━━━━━━━━━━━━━━━━━━━━━━━━━\u001b[0m \u001b[32m 39/107\u001b[0m [numpy]ers]\n",
      "\u001b[2K      Successfully uninstalled numpy-2.0.2━━━━━━━━━━━━━━━━━━━━\u001b[0m \u001b[32m 39/107\u001b[0m [numpy]\n",
      "\u001b[2K  Attempting uninstall: nest-asyncio\u001b[90m━━━━━━━━━━━━━━━━━━━━━━━━━\u001b[0m \u001b[32m 39/107\u001b[0m [numpy]\n",
      "\u001b[2K    Found existing installation: nest-asyncio 1.5.5━━━━━━━━━━━\u001b[0m \u001b[32m 39/107\u001b[0m [numpy]\n",
      "\u001b[2K    Uninstalling nest-asyncio-1.5.5:m━━━━━━━━━━━━━━━━━━━━━━━━━\u001b[0m \u001b[32m 39/107\u001b[0m [numpy]\n",
      "\u001b[2K      Successfully uninstalled nest-asyncio-1.5.5━━━━━━━━━━━━━━━━━\u001b[0m \u001b[32m 40/107\u001b[0m [nest-asyncio]\n",
      "\u001b[2K  Attempting uninstall: MarkupSafe90m━━━━━━━━━━━━━━━━━━━━━━━━━\u001b[0m \u001b[32m 40/107\u001b[0m [nest-asyncio]\n",
      "\u001b[2K    Found existing installation: MarkupSafe 2.0.1━━━━━━━━━━━━━\u001b[0m \u001b[32m 40/107\u001b[0m [nest-asyncio]\n",
      "\u001b[2K    Uninstalling MarkupSafe-2.0.1:90m━━━━━━━━━━━━━━━━━━━━━━━━━\u001b[0m \u001b[32m 40/107\u001b[0m [nest-asyncio]\n",
      "\u001b[2K      Successfully uninstalled MarkupSafe-2.0.1━━━━━━━━━━━━━━━\u001b[0m \u001b[32m 40/107\u001b[0m [nest-asyncio]\n",
      "\u001b[2K  Attempting uninstall: jupyterlab_widgets━━━━━━━━━━━━━━━━━━━━\u001b[0m \u001b[32m 40/107\u001b[0m [nest-asyncio]\n",
      "\u001b[2K    Found existing installation: jupyterlab-widgets 1.0.0━━━━━\u001b[0m \u001b[32m 40/107\u001b[0m [nest-asyncio]\n",
      "\u001b[2K    Uninstalling jupyterlab-widgets-1.0.0:━━━━━━━━━━━━━━━━━━━━\u001b[0m \u001b[32m 40/107\u001b[0m [nest-asyncio]\n",
      "\u001b[2K      Successfully uninstalled jupyterlab-widgets-1.0.0━━━━━━━━━━━\u001b[0m \u001b[32m 43/107\u001b[0m [jupyterlab_widgets]\n",
      "\u001b[2K  Attempting uninstall: jupyterlab-pygments━━━━━━━━━━━━━━━━━━━\u001b[0m \u001b[32m 43/107\u001b[0m [jupyterlab_widgets]\n",
      "\u001b[2K    Found existing installation: jupyterlab-pygments 0.1.2━━━━\u001b[0m \u001b[32m 43/107\u001b[0m [jupyterlab_widgets]\n",
      "\u001b[2K    Uninstalling jupyterlab-pygments-0.1.2:━━━━━━━━━━━━━━━━━━━\u001b[0m \u001b[32m 43/107\u001b[0m [jupyterlab_widgets]\n",
      "\u001b[2K      Successfully uninstalled jupyterlab-pygments-0.1.2━━━━━━\u001b[0m \u001b[32m 43/107\u001b[0m [jupyterlab_widgets]\n",
      "\u001b[2K  Attempting uninstall: json5╺\u001b[0m\u001b[90m━━━━━━━━━━━━━━━━━━━━━━━\u001b[0m \u001b[32m 43/107\u001b[0m [jupyterlab_widgets]\n",
      "\u001b[2K    Found existing installation: json5 0.9.6━━━━━━━━━━━━━━━━━━\u001b[0m \u001b[32m 43/107\u001b[0m [jupyterlab_widgets]\n",
      "\u001b[2K    Uninstalling json5-0.9.6:╺\u001b[0m\u001b[90m━━━━━━━━━━━━━━━━━━━━━━━\u001b[0m \u001b[32m 43/107\u001b[0m [jupyterlab_widgets]\n",
      "\u001b[2K      Successfully uninstalled json5-0.9.6━━━━━━━━━━━━━━━━━━━━\u001b[0m \u001b[32m 43/107\u001b[0m [jupyterlab_widgets]\n",
      "\u001b[2K  Attempting uninstall: idnam╺\u001b[0m\u001b[90m━━━━━━━━━━━━━━━━━━━━━━━\u001b[0m \u001b[32m 43/107\u001b[0m [jupyterlab_widgets]\n",
      "\u001b[2K    Found existing installation: idna 3.3━━━━━━━━━━━━━━━━━━━━━\u001b[0m \u001b[32m 43/107\u001b[0m [jupyterlab_widgets]\n",
      "\u001b[2K    Uninstalling idna-3.3:90m╺\u001b[0m\u001b[90m━━━━━━━━━━━━━━━━━━━━━━━\u001b[0m \u001b[32m 43/107\u001b[0m [jupyterlab_widgets]\n",
      "\u001b[2K      Successfully uninstalled idna-3.3━━━━━━━━━━━━━━━━━━━━━━━\u001b[0m \u001b[32m 43/107\u001b[0m [jupyterlab_widgets]\n",
      "\u001b[2K  Attempting uninstall: defusedxml\u001b[90m━━━━━━━━━━━━━━━━━━━━━━━\u001b[0m \u001b[32m 43/107\u001b[0m [jupyterlab_widgets]\n",
      "\u001b[2K    Found existing installation: defusedxml 0.7.1━━━━━━━━━━━━━\u001b[0m \u001b[32m 43/107\u001b[0m [jupyterlab_widgets]\n",
      "\u001b[2K    Uninstalling defusedxml-0.7.1:\u001b[90m━━━━━━━━━━━━━━━━━━━━━━━\u001b[0m \u001b[32m 43/107\u001b[0m [jupyterlab_widgets]\n",
      "\u001b[2K      Successfully uninstalled defusedxml-0.7.1━━━━━━━━━━━━━━━\u001b[0m \u001b[32m 43/107\u001b[0m [jupyterlab_widgets]\n",
      "\u001b[2K  Attempting uninstall: decoratorm\u001b[90m━━━━━━━━━━━━━━━━━━━━━━━\u001b[0m \u001b[32m 43/107\u001b[0m [jupyterlab_widgets]\n",
      "\u001b[2K    Found existing installation: decorator 5.1.1━━━━━━━━━━━━━━\u001b[0m \u001b[32m 43/107\u001b[0m [jupyterlab_widgets]\n",
      "\u001b[2K    Uninstalling decorator-5.1.1:m\u001b[90m━━━━━━━━━━━━━━━━━━━━━━━\u001b[0m \u001b[32m 43/107\u001b[0m [jupyterlab_widgets]\n",
      "\u001b[2K      Successfully uninstalled decorator-5.1.1━━━━━━━━━━━━━━━━━━━━\u001b[0m \u001b[32m 52/107\u001b[0m [decorator]gets]\n",
      "\u001b[2K  Attempting uninstall: debugpym╺\u001b[0m\u001b[90m━━━━━━━━━━━━━━━━━━━━\u001b[0m \u001b[32m 52/107\u001b[0m [decorator]\n",
      "\u001b[2K    Found existing installation: debugpy 1.5.1━━━━━━━━━━━━━━━━\u001b[0m \u001b[32m 52/107\u001b[0m [decorator]\n",
      "\u001b[2K    Uninstalling debugpy-1.5.1:m╺\u001b[0m\u001b[90m━━━━━━━━━━━━━━━━━━━━\u001b[0m \u001b[32m 52/107\u001b[0m [decorator]\n",
      "\u001b[2K      Successfully uninstalled debugpy-1.5.1━━━━━━━━━━━━━━━━━━\u001b[0m \u001b[32m 52/107\u001b[0m [decorator]\n",
      "\u001b[2K  Attempting uninstall: charset_normalizer[90m━━━━━━━━━━━━━━━━━━━━\u001b[0m \u001b[32m 53/107\u001b[0m [debugpy]\n",
      "\u001b[2K    Found existing installation: charset-normalizer 2.0.4━━━━━\u001b[0m \u001b[32m 53/107\u001b[0m [debugpy]\n",
      "\u001b[2K    Uninstalling charset-normalizer-2.0.4:━━━━━━━━━━━━━━━━━━━━\u001b[0m \u001b[32m 53/107\u001b[0m [debugpy]\n",
      "\u001b[2K      Successfully uninstalled charset-normalizer-2.0.4━━━━━━━\u001b[0m \u001b[32m 53/107\u001b[0m [debugpy]\n",
      "\u001b[2K  Attempting uninstall: certifim╸\u001b[0m\u001b[90m━━━━━━━━━━━━━━━━━━━━\u001b[0m \u001b[32m 53/107\u001b[0m [debugpy]\n",
      "\u001b[2K    Found existing installation: certifi 2022.9.24━━━━━━━━━━━━\u001b[0m \u001b[32m 53/107\u001b[0m [debugpy]\n",
      "\u001b[2K    Uninstalling certifi-2022.9.24:0m\u001b[90m━━━━━━━━━━━━━━━━━━━━\u001b[0m \u001b[32m 53/107\u001b[0m [debugpy]\n",
      "\u001b[2K      Successfully uninstalled certifi-2022.9.24━━━━━━━━━━━━━━\u001b[0m \u001b[32m 53/107\u001b[0m [debugpy]\n",
      "\u001b[2K  Attempting uninstall: bleach1m╸\u001b[0m\u001b[90m━━━━━━━━━━━━━━━━━━━━\u001b[0m \u001b[32m 53/107\u001b[0m [debugpy]\n",
      "\u001b[2K    Found existing installation: bleach 4.1.0━━━━━━━━━━━━━━━━━\u001b[0m \u001b[32m 53/107\u001b[0m [debugpy]\n",
      "\u001b[2K    Uninstalling bleach-4.1.0:1m╸\u001b[0m\u001b[90m━━━━━━━━━━━━━━━━━━━━\u001b[0m \u001b[32m 53/107\u001b[0m [debugpy]\n",
      "\u001b[2K      Successfully uninstalled bleach-4.1.0━━━━━━━━━━━━━━━━━━━\u001b[0m \u001b[32m 53/107\u001b[0m [debugpy]\n",
      "\u001b[2K  Attempting uninstall: babel\u001b[0m\u001b[90m╺\u001b[0m\u001b[90m━━━━━━━━━━━━━━━━━━\u001b[0m \u001b[32m 57/107\u001b[0m [bleach]\n",
      "\u001b[2K    Found existing installation: Babel 2.9.1━━━━━━━━━━━━━━━━━━\u001b[0m \u001b[32m 57/107\u001b[0m [bleach]\n",
      "\u001b[2K    Uninstalling Babel-2.9.1:\u001b[90m╺\u001b[0m\u001b[90m━━━━━━━━━━━━━━━━━━\u001b[0m \u001b[32m 57/107\u001b[0m [bleach]\n",
      "\u001b[2K      Successfully uninstalled Babel-2.9.10m━━━━━━━━━━━━━━━━━━\u001b[0m \u001b[32m 57/107\u001b[0m [bleach]\n",
      "\u001b[2K  Attempting uninstall: attrs\u001b[0m\u001b[91m╸\u001b[0m\u001b[90m━━━━━━━━━━━━━━━━━━\u001b[0m \u001b[32m 58/107\u001b[0m [babel]\n",
      "\u001b[2K    Found existing installation: attrs 21.4.0━━━━━━━━━━━━━━━━━\u001b[0m \u001b[32m 58/107\u001b[0m [babel]\n",
      "\u001b[2K    Uninstalling attrs-21.4.0:[91m╸\u001b[0m\u001b[90m━━━━━━━━━━━━━━━━━━\u001b[0m \u001b[32m 58/107\u001b[0m [babel]\n",
      "\u001b[2K      Successfully uninstalled attrs-21.4.0m━━━━━━━━━━━━━━━━━━\u001b[0m \u001b[32m 58/107\u001b[0m [babel]\n",
      "\u001b[2K  Attempting uninstall: appnope[0m\u001b[90m╺\u001b[0m\u001b[90m━━━━━━━━━━━━━━━━━\u001b[0m \u001b[32m 60/107\u001b[0m [asttokens]\n",
      "\u001b[2K    Found existing installation: appnope 0.1.2━━━━━━━━━━━━━━━━\u001b[0m \u001b[32m 60/107\u001b[0m [asttokens]\n",
      "\u001b[2K    Uninstalling appnope-0.1.2:[90m╺\u001b[0m\u001b[90m━━━━━━━━━━━━━━━━━\u001b[0m \u001b[32m 60/107\u001b[0m [asttokens]\n",
      "\u001b[2K      Successfully uninstalled appnope-0.1.2m━━━━━━━━━━━━━━━━━\u001b[0m \u001b[32m 60/107\u001b[0m [asttokens]\n",
      "\u001b[2K  Attempting uninstall: terminado0m╺\u001b[0m\u001b[90m━━━━━━━━━━━━━━━━━\u001b[0m \u001b[32m 60/107\u001b[0m [asttokens]\n",
      "\u001b[2K    Found existing installation: terminado 0.13.1━━━━━━━━━━━━━\u001b[0m \u001b[32m 60/107\u001b[0m [asttokens]\n",
      "\u001b[2K    Uninstalling terminado-0.13.1:m╺\u001b[0m\u001b[90m━━━━━━━━━━━━━━━━━\u001b[0m \u001b[32m 60/107\u001b[0m [asttokens]\n",
      "\u001b[2K      Successfully uninstalled terminado-0.13.1━━━━━━━━━━━━━━━\u001b[0m \u001b[32m 60/107\u001b[0m [asttokens]\n",
      "\u001b[2K  Attempting uninstall: requests90m╺\u001b[0m\u001b[90m━━━━━━━━━━━━━━━━━\u001b[0m \u001b[32m 60/107\u001b[0m [asttokens]\n",
      "\u001b[2K    Found existing installation: requests 2.28.1━━━━━━━━━━━━━━\u001b[0m \u001b[32m 60/107\u001b[0m [asttokens]\n",
      "\u001b[2K    Uninstalling requests-2.28.1:0m╺\u001b[0m\u001b[90m━━━━━━━━━━━━━━━━━\u001b[0m \u001b[32m 60/107\u001b[0m [asttokens]\n",
      "\u001b[2K      Successfully uninstalled requests-2.28.1━━━━━━━━━━━━━━━━\u001b[0m \u001b[32m 60/107\u001b[0m [asttokens]\n",
      "\u001b[2K  Attempting uninstall: python-dateutilm\u001b[90m━━━━━━━━━━━━━━━━━\u001b[0m \u001b[32m 60/107\u001b[0m [asttokens]\n",
      "\u001b[2K    Found existing installation: python-dateutil 2.8.2━━━━━━━━\u001b[0m \u001b[32m 60/107\u001b[0m [asttokens]\n",
      "\u001b[2K    Uninstalling python-dateutil-2.8.2:m\u001b[90m━━━━━━━━━━━━━━━━━\u001b[0m \u001b[32m 60/107\u001b[0m [asttokens]\n",
      "\u001b[2K      Successfully uninstalled python-dateutil-2.8.2━━━━━━━━━━\u001b[0m \u001b[32m 60/107\u001b[0m [asttokens]\n",
      "\u001b[2K  Attempting uninstall: mistune━━\u001b[0m\u001b[91m╸\u001b[0m\u001b[90m━━━━━━━━━━━━━━\u001b[0m \u001b[32m 69/107\u001b[0m [python-dateutil]\n",
      "\u001b[2K    Found existing installation: mistune 0.8.40m━━━━━━━━━━━━━━\u001b[0m \u001b[32m 69/107\u001b[0m [python-dateutil]\n",
      "\u001b[2K    Uninstalling mistune-0.8.4:0m\u001b[91m╸\u001b[0m\u001b[90m━━━━━━━━━━━━━━\u001b[0m \u001b[32m 69/107\u001b[0m [python-dateutil]\n",
      "\u001b[2K      Successfully uninstalled mistune-0.8.4\u001b[0m\u001b[90m━━━━━━━━━━━━━\u001b[0m \u001b[32m 70/107\u001b[0m [mistune]til]\n",
      "\u001b[2K  Attempting uninstall: matplotlib-inline0m╺\u001b[0m\u001b[90m━━━━━━━━━━━━━\u001b[0m \u001b[32m 70/107\u001b[0m [mistune]\n",
      "\u001b[2K    Found existing installation: matplotlib-inline 0.1.6━━━━━━\u001b[0m \u001b[32m 70/107\u001b[0m [mistune]\n",
      "\u001b[2K    Uninstalling matplotlib-inline-0.1.6:[0m\u001b[90m━━━━━━━━━━━━━\u001b[0m \u001b[32m 70/107\u001b[0m [mistune]\n",
      "\u001b[2K      Successfully uninstalled matplotlib-inline-0.1.6━━━━━━━━\u001b[0m \u001b[32m 70/107\u001b[0m [mistune]\n",
      "\u001b[2K  Attempting uninstall: jupyter-core90m╺\u001b[0m\u001b[90m━━━━━━━━━━━━━\u001b[0m \u001b[32m 70/107\u001b[0m [mistune]\n",
      "\u001b[2K    Found existing installation: jupyter_core 4.11.1━━━━━━━━━━\u001b[0m \u001b[32m 70/107\u001b[0m [mistune]\n",
      "\u001b[2K    Uninstalling jupyter_core-4.11.1:0m╺\u001b[0m\u001b[90m━━━━━━━━━━━━━\u001b[0m \u001b[32m 70/107\u001b[0m [mistune]\n",
      "\u001b[2K      Successfully uninstalled jupyter_core-4.11.190m━━━━━━━━━━━━━\u001b[0m \u001b[32m 72/107\u001b[0m [jupyter-core]\n",
      "\u001b[2K  Attempting uninstall: jinja2━━━━\u001b[0m\u001b[91m╸\u001b[0m\u001b[90m━━━━━━━━━━━━━\u001b[0m \u001b[32m 72/107\u001b[0m [jupyter-core]\n",
      "\u001b[2K    Found existing installation: Jinja2 2.11.390m━━━━━━━━━━━━━\u001b[0m \u001b[32m 72/107\u001b[0m [jupyter-core]\n",
      "\u001b[2K    Uninstalling Jinja2-2.11.3:[0m\u001b[91m╸\u001b[0m\u001b[90m━━━━━━━━━━━━━\u001b[0m \u001b[32m 72/107\u001b[0m [jupyter-core]\n",
      "\u001b[2K      Successfully uninstalled Jinja2-2.11.3\u001b[90m━━━━━━━━━━━━━\u001b[0m \u001b[32m 72/107\u001b[0m [jupyter-core]\n",
      "\u001b[2K  Attempting uninstall: jedi━━\u001b[0m\u001b[91m╸\u001b[0m\u001b[90m━━━━━━━━━━━━━\u001b[0m \u001b[32m 72/107\u001b[0m [jupyter-core]\n",
      "\u001b[2K    Found existing installation: jedi 0.18.1\u001b[90m━━━━━━━━━━━━━\u001b[0m \u001b[32m 72/107\u001b[0m [jupyter-core]\n",
      "\u001b[2K    Uninstalling jedi-0.18.1:━\u001b[0m\u001b[91m╸\u001b[0m\u001b[90m━━━━━━━━━━━━━\u001b[0m \u001b[32m 72/107\u001b[0m [jupyter-core]\n",
      "\u001b[2K      Successfully uninstalled jedi-0.18.11m╸\u001b[0m\u001b[90m━━━━━━━━━━━━\u001b[0m \u001b[32m 74/107\u001b[0m [jedi]ore]\n",
      "\u001b[2K  Attempting uninstall: importlib-metadata1m╸\u001b[0m\u001b[90m━━━━━━━━━━━━\u001b[0m \u001b[32m 74/107\u001b[0m [jedi]\n",
      "\u001b[2K    Found existing installation: importlib-metadata 4.11.3━━━━\u001b[0m \u001b[32m 74/107\u001b[0m [jedi]\n",
      "\u001b[2K    Uninstalling importlib-metadata-4.11.3:0m\u001b[90m━━━━━━━━━━━━\u001b[0m \u001b[32m 74/107\u001b[0m [jedi]\n",
      "\u001b[2K      Successfully uninstalled importlib-metadata-4.11.3━━━━━━\u001b[0m \u001b[32m 74/107\u001b[0m [jedi]\n",
      "\u001b[2K  Attempting uninstall: cffi━━━\u001b[0m\u001b[91m╸\u001b[0m\u001b[90m━━━━━━━━━━━━\u001b[0m \u001b[32m 74/107\u001b[0m [jedi]\n",
      "\u001b[2K    Found existing installation: cffi 1.15.1m\u001b[90m━━━━━━━━━━━━\u001b[0m \u001b[32m 74/107\u001b[0m [jedi]\n",
      "\u001b[2K    Uninstalling cffi-1.15.1:━━\u001b[0m\u001b[91m╸\u001b[0m\u001b[90m━━━━━━━━━━━━\u001b[0m \u001b[32m 74/107\u001b[0m [jedi]\n",
      "\u001b[2K      Successfully uninstalled cffi-1.15.1[90m╺\u001b[0m\u001b[90m━━━━━━━━━━\u001b[0m \u001b[32m 78/107\u001b[0m [cffi]\n",
      "\u001b[2K  Attempting uninstall: beautifulsoup4[90m╺\u001b[0m\u001b[90m━━━━━━━━━━\u001b[0m \u001b[32m 78/107\u001b[0m [cffi]\n",
      "\u001b[2K    Found existing installation: beautifulsoup4 4.11.1━━━━━━━━\u001b[0m \u001b[32m 78/107\u001b[0m [cffi]\n",
      "\u001b[2K    Uninstalling beautifulsoup4-4.11.1:90m╺\u001b[0m\u001b[90m━━━━━━━━━━\u001b[0m \u001b[32m 78/107\u001b[0m [cffi]\n",
      "\u001b[2K      Successfully uninstalled beautifulsoup4-4.11.1━━━━━━━━━━\u001b[0m \u001b[32m 78/107\u001b[0m [cffi]\n",
      "\u001b[2K  Attempting uninstall: pandas━━━\u001b[0m\u001b[90m╺\u001b[0m\u001b[90m━━━━━━━━━━\u001b[0m \u001b[32m 78/107\u001b[0m [cffi]\n",
      "\u001b[2K    Found existing installation: pandas 1.4.40m\u001b[90m━━━━━━━━━━\u001b[0m \u001b[32m 78/107\u001b[0m [cffi]\n",
      "\u001b[2K    Uninstalling pandas-1.4.4:━━━━━━━━\u001b[0m\u001b[90m╺\u001b[0m\u001b[90m━━━━━━━━━\u001b[0m \u001b[32m 81/107\u001b[0m [pandas]\n",
      "\u001b[2K      Successfully uninstalled pandas-1.4.4[90m╺\u001b[0m\u001b[90m━━━━━━━━━\u001b[0m \u001b[32m 81/107\u001b[0m [pandas]\n",
      "\u001b[2K  Attempting uninstall: jupyter-client\u001b[0m\u001b[90m╺\u001b[0m\u001b[90m━━━━━━━━━\u001b[0m \u001b[32m 81/107\u001b[0m [pandas]\n",
      "\u001b[2K    Found existing installation: jupyter_client 7.3.4━━━━━━━━━\u001b[0m \u001b[32m 81/107\u001b[0m [pandas]\n",
      "\u001b[2K    Uninstalling jupyter_client-7.3.4:━\u001b[0m\u001b[90m╺\u001b[0m\u001b[90m━━━━━━━━\u001b[0m \u001b[32m 83/107\u001b[0m [jupyter-client]\n",
      "\u001b[2K      Successfully uninstalled jupyter_client-7.3.490m━━━━━━━━\u001b[0m \u001b[32m 83/107\u001b[0m [jupyter-client]\n",
      "\u001b[2K  Attempting uninstall: ipython━━━━\u001b[0m\u001b[90m╺\u001b[0m\u001b[90m━━━━━━━━\u001b[0m \u001b[32m 83/107\u001b[0m [jupyter-client]\n",
      "\u001b[2K    Found existing installation: ipython 7.31.10m\u001b[90m━━━━━━━━\u001b[0m \u001b[32m 83/107\u001b[0m [jupyter-client]\n",
      "\u001b[2K    Uninstalling ipython-7.31.1:━━━\u001b[0m\u001b[90m╺\u001b[0m\u001b[90m━━━━━━━━\u001b[0m \u001b[32m 83/107\u001b[0m [jupyter-client]\n",
      "\u001b[2K      Successfully uninstalled ipython-7.31.1\u001b[0m\u001b[90m━━━━━━━━\u001b[0m \u001b[32m 83/107\u001b[0m [jupyter-client]\n",
      "\u001b[2K  Attempting uninstall: arrow━━━━━━━━━━\u001b[0m\u001b[91m╸\u001b[0m\u001b[90m━━━━━━━━\u001b[0m \u001b[32m 85/107\u001b[0m [ipython]nt]\n",
      "\u001b[2K    Found existing installation: arrow 1.2.2╸\u001b[0m\u001b[90m━━━━━━━━\u001b[0m \u001b[32m 85/107\u001b[0m [ipython]\n",
      "\u001b[2K    Uninstalling arrow-1.2.2:━━━━━━\u001b[0m\u001b[91m╸\u001b[0m\u001b[90m━━━━━━━━\u001b[0m \u001b[32m 85/107\u001b[0m [ipython]\n",
      "\u001b[2K      Successfully uninstalled arrow-1.2.21m╸\u001b[0m\u001b[90m━━━━━━━━\u001b[0m \u001b[32m 85/107\u001b[0m [ipython]\n",
      "\u001b[2K  Attempting uninstall: argon2-cffi-bindings\u001b[90m╺\u001b[0m\u001b[90m━━━━━━━\u001b[0m \u001b[32m 86/107\u001b[0m [arrow]\n",
      "\u001b[2K    Found existing installation: argon2-cffi-bindings 21.2.0━━\u001b[0m \u001b[32m 86/107\u001b[0m [arrow]\n",
      "\u001b[2K    Uninstalling argon2-cffi-bindings-21.2.0:╺\u001b[0m\u001b[90m━━━━━━━\u001b[0m \u001b[32m 86/107\u001b[0m [arrow]\n",
      "\u001b[2K      Successfully uninstalled argon2-cffi-bindings-21.2.0━━━━\u001b[0m \u001b[32m 86/107\u001b[0m [arrow]\n",
      "\u001b[2K  Attempting uninstall: anyio━━━━━━━\u001b[0m\u001b[90m╺\u001b[0m\u001b[90m━━━━━━━\u001b[0m \u001b[32m 86/107\u001b[0m [arrow]\n",
      "\u001b[2K    Found existing installation: anyio 3.5.0m╺\u001b[0m\u001b[90m━━━━━━━\u001b[0m \u001b[32m 86/107\u001b[0m [arrow]\n",
      "\u001b[2K    Uninstalling anyio-3.5.0:━━━━━━━\u001b[0m\u001b[90m╺\u001b[0m\u001b[90m━━━━━━━\u001b[0m \u001b[32m 86/107\u001b[0m [arrow]\n",
      "\u001b[2K      Successfully uninstalled anyio-3.5.090m╺\u001b[0m\u001b[90m━━━━━━━\u001b[0m \u001b[32m 86/107\u001b[0m [arrow]\n",
      "\u001b[2K  Attempting uninstall: jsonschema━━\u001b[0m\u001b[90m╺\u001b[0m\u001b[90m━━━━━━━\u001b[0m \u001b[32m 86/107\u001b[0m [arrow]\n",
      "\u001b[2K    Found existing installation: jsonschema 4.16.0\u001b[90m━━━━━━━\u001b[0m \u001b[32m 86/107\u001b[0m [arrow]\n",
      "\u001b[2K    Uninstalling jsonschema-4.16.0:━\u001b[0m\u001b[90m╺\u001b[0m\u001b[90m━━━━━━━\u001b[0m \u001b[32m 86/107\u001b[0m [arrow]\n",
      "\u001b[2K      Successfully uninstalled jsonschema-4.16.00m\u001b[90m━━━━━━━\u001b[0m \u001b[32m 86/107\u001b[0m [arrow]\n",
      "\u001b[2K  Attempting uninstall: ipywidgets━━━━━━━\u001b[0m\u001b[90m╺\u001b[0m\u001b[90m━━━━━━\u001b[0m \u001b[32m 89/107\u001b[0m [jsonschema]\n",
      "\u001b[2K    Found existing installation: ipywidgets 7.6.50m\u001b[90m━━━━━━\u001b[0m \u001b[32m 89/107\u001b[0m [jsonschema]\n",
      "\u001b[2K    Uninstalling ipywidgets-7.6.5:━━━\u001b[0m\u001b[90m╺\u001b[0m\u001b[90m━━━━━━\u001b[0m \u001b[32m 89/107\u001b[0m [jsonschema]\n",
      "\u001b[2K      Successfully uninstalled ipywidgets-7.6.5\u001b[0m\u001b[90m━━━━━━\u001b[0m \u001b[32m 89/107\u001b[0m [jsonschema]\n",
      "\u001b[2K  Attempting uninstall: ipykernel━━━━\u001b[0m\u001b[90m╺\u001b[0m\u001b[90m━━━━━━\u001b[0m \u001b[32m 89/107\u001b[0m [jsonschema]\n",
      "\u001b[2K    Found existing installation: ipykernel 6.15.20m\u001b[90m━━━━━━\u001b[0m \u001b[32m 89/107\u001b[0m [jsonschema]\n",
      "\u001b[2K    Uninstalling ipykernel-6.15.2:━━━\u001b[0m\u001b[90m╺\u001b[0m\u001b[90m━━━━━━\u001b[0m \u001b[32m 89/107\u001b[0m [jsonschema]\n",
      "\u001b[2K      Successfully uninstalled ipykernel-6.15.2[90m╺\u001b[0m\u001b[90m━━━━━\u001b[0m \u001b[32m 92/107\u001b[0m [ipykernel]\n",
      "\u001b[2K  Attempting uninstall: argon2-cffi━━━━━━━\u001b[0m\u001b[91m╸\u001b[0m\u001b[90m━━━━━\u001b[0m \u001b[32m 93/107\u001b[0m [httpx]\n",
      "\u001b[2K    Found existing installation: argon2-cffi 21.3.0m\u001b[90m━━━━━\u001b[0m \u001b[32m 93/107\u001b[0m [httpx]\n",
      "\u001b[2K    Uninstalling argon2-cffi-21.3.0:━━\u001b[0m\u001b[91m╸\u001b[0m\u001b[90m━━━━━\u001b[0m \u001b[32m 93/107\u001b[0m [httpx]\n",
      "\u001b[2K      Successfully uninstalled argon2-cffi-21.3.0[0m\u001b[90m━━━━━\u001b[0m \u001b[32m 93/107\u001b[0m [httpx]\n",
      "\u001b[2K  Attempting uninstall: nbformat━━━━━━\u001b[0m\u001b[91m╸\u001b[0m\u001b[90m━━━━━\u001b[0m \u001b[32m 93/107\u001b[0m [httpx]\n",
      "\u001b[2K    Found existing installation: nbformat 5.5.0╸\u001b[0m\u001b[90m━━━━━\u001b[0m \u001b[32m 93/107\u001b[0m [httpx]\n",
      "\u001b[2K    Uninstalling nbformat-5.5.0:━━━━━━\u001b[0m\u001b[91m╸\u001b[0m\u001b[90m━━━━━\u001b[0m \u001b[32m 93/107\u001b[0m [httpx]\n",
      "\u001b[2K      Successfully uninstalled nbformat-5.5.01m╸\u001b[0m\u001b[90m━━━━━\u001b[0m \u001b[32m 93/107\u001b[0m [httpx]\n",
      "\u001b[2K  Attempting uninstall: jupyter-console[0m\u001b[91m╸\u001b[0m\u001b[90m━━━━━\u001b[0m \u001b[32m 93/107\u001b[0m [httpx]\n",
      "\u001b[2K    Found existing installation: jupyter-console 6.4.390m━━━━━\u001b[0m \u001b[32m 93/107\u001b[0m [httpx]\n",
      "\u001b[2K    Uninstalling jupyter-console-6.4.3:[0m\u001b[91m╸\u001b[0m\u001b[90m━━━━━\u001b[0m \u001b[32m 93/107\u001b[0m [httpx]\n",
      "\u001b[2K      Successfully uninstalled jupyter-console-6.4.3\u001b[90m━━━━━\u001b[0m \u001b[32m 93/107\u001b[0m [httpx]\n",
      "\u001b[2K  Attempting uninstall: nbclient━━━━━━\u001b[0m\u001b[91m╸\u001b[0m\u001b[90m━━━━━\u001b[0m \u001b[32m 93/107\u001b[0m [httpx]\n",
      "\u001b[2K    Found existing installation: nbclient 0.5.13\u001b[0m\u001b[90m━━━━━\u001b[0m \u001b[32m 93/107\u001b[0m [httpx]\n",
      "\u001b[2K    Uninstalling nbclient-0.5.13:━━━━━\u001b[0m\u001b[91m╸\u001b[0m\u001b[90m━━━━━\u001b[0m \u001b[32m 93/107\u001b[0m [httpx]\n",
      "\u001b[2K      Successfully uninstalled nbclient-0.5.13m╸\u001b[0m\u001b[90m━━━━━\u001b[0m \u001b[32m 93/107\u001b[0m [httpx]\n",
      "\u001b[2K  Attempting uninstall: nbconvert━━━━━\u001b[0m\u001b[91m╸\u001b[0m\u001b[90m━━━━━\u001b[0m \u001b[32m 93/107\u001b[0m [httpx]\n",
      "\u001b[2K    Found existing installation: nbconvert 6.4.4m\u001b[90m╺\u001b[0m\u001b[90m━━\u001b[0m \u001b[32m 99/107\u001b[0m [nbconvert]\n",
      "\u001b[2K    Uninstalling nbconvert-6.4.4:━━━━━━━━\u001b[0m\u001b[90m╺\u001b[0m\u001b[90m━━\u001b[0m \u001b[32m 99/107\u001b[0m [nbconvert]\n",
      "\u001b[2K      Successfully uninstalled nbconvert-6.4.4[90m╺\u001b[0m\u001b[90m━━\u001b[0m \u001b[32m 99/107\u001b[0m [nbconvert]\n",
      "\u001b[2K  Attempting uninstall: jupyter-server━━━\u001b[0m\u001b[90m╺\u001b[0m\u001b[90m━━\u001b[0m \u001b[32m 99/107\u001b[0m [nbconvert]\n",
      "\u001b[2K    Found existing installation: jupyter-server 1.18.1m\u001b[90m━━\u001b[0m \u001b[32m 99/107\u001b[0m [nbconvert]\n",
      "\u001b[2K    Uninstalling jupyter-server-1.18.1:━━\u001b[0m\u001b[90m╺\u001b[0m\u001b[90m━━\u001b[0m \u001b[32m 99/107\u001b[0m [nbconvert]\n",
      "\u001b[2K      Successfully uninstalled jupyter-server-1.18.1[0m\u001b[90m━━\u001b[0m \u001b[32m 99/107\u001b[0m [nbconvert]\n",
      "\u001b[2K  Attempting uninstall: jupyterlab-server━━━━\u001b[0m\u001b[90m╺\u001b[0m\u001b[90m━━\u001b[0m \u001b[32m100/107\u001b[0m [jupyter-server]\n",
      "\u001b[2K    Found existing installation: jupyterlab-server 2.10.390m━━\u001b[0m \u001b[32m100/107\u001b[0m [jupyter-server]\n",
      "\u001b[2K    Uninstalling jupyterlab-server-2.10.3:[0m\u001b[90m╺\u001b[0m\u001b[90m━━\u001b[0m \u001b[32m100/107\u001b[0m [jupyter-server]\n",
      "\u001b[2K      Successfully uninstalled jupyterlab-server-2.10.3\u001b[90m━━\u001b[0m \u001b[32m100/107\u001b[0m [jupyter-server]\n",
      "\u001b[2K  Attempting uninstall: jupyterlab━━━━━━━━━━━━\u001b[0m\u001b[91m╸\u001b[0m\u001b[90m━\u001b[0m \u001b[32m103/107\u001b[0m [jupyter-lsp]\n",
      "\u001b[2K    Found existing installation: jupyterlab 3.4.41m╸\u001b[0m\u001b[90m━\u001b[0m \u001b[32m103/107\u001b[0m [jupyter-lsp]\n",
      "\u001b[2K    Uninstalling jupyterlab-3.4.4:━━━━━━━━\u001b[0m\u001b[91m╸\u001b[0m\u001b[90m━\u001b[0m \u001b[32m103/107\u001b[0m [jupyter-lsp]\n",
      "\u001b[2K      Successfully uninstalled jupyterlab-3.4.4[91m╸\u001b[0m\u001b[90m━\u001b[0m \u001b[32m103/107\u001b[0m [jupyter-lsp]\n",
      "\u001b[2K  Attempting uninstall: notebook━━━━━━━━━━━━━━\u001b[0m\u001b[91m╸\u001b[0m\u001b[90m━\u001b[0m \u001b[32m104/107\u001b[0m [jupyterlab]\n",
      "\u001b[2K    Found existing installation: notebook 6.4.1291m╸\u001b[0m\u001b[90m━\u001b[0m \u001b[32m104/107\u001b[0m [jupyterlab]\n",
      "\u001b[2K    Uninstalling notebook-6.4.12:━━━━━━━━━━━━━━\u001b[0m\u001b[90m╺\u001b[0m \u001b[32m105/107\u001b[0m [notebook]terlab]\n",
      "\u001b[2K      Successfully uninstalled notebook-6.4.12m\u001b[90m╺\u001b[0m \u001b[32m105/107\u001b[0m [notebook]\n",
      "\u001b[2K  Attempting uninstall: jupyter━━━━━━━━━━━━━━━━\u001b[0m\u001b[90m╺\u001b[0m \u001b[32m105/107\u001b[0m [notebook]\n",
      "\u001b[2K    Found existing installation: jupyter 1.0.0m\u001b[90m╺\u001b[0m \u001b[32m105/107\u001b[0m [notebook]\n",
      "\u001b[2K    Uninstalling jupyter-1.0.0:━━━━━━━━━━━━\u001b[0m\u001b[90m╺\u001b[0m \u001b[32m105/107\u001b[0m [notebook]\n",
      "\u001b[2K      Successfully uninstalled jupyter-1.0.0━━━\u001b[0m\u001b[91m╸\u001b[0m \u001b[32m106/107\u001b[0m [jupyter]\n",
      "\u001b[2K   \u001b[90m━━━━━━━━━━━━━━━━━━━━━━━━━━━━━━━━━━━━━━━━\u001b[0m \u001b[32m107/107\u001b[0m [jupyter]yter]\n",
      "\u001b[1A\u001b[2K\u001b[31mERROR: pip's dependency resolver does not currently take into account all the packages that are installed. This behaviour is the source of the following dependency conflicts.\n",
      "daal4py 2021.6.0 requires daal==2021.4.0, which is not installed.\n",
      "spyder 5.3.3 requires pyqt5<5.16, which is not installed.\n",
      "spyder 5.3.3 requires pyqtwebengine<5.16, which is not installed.\n",
      "botocore 1.27.28 requires urllib3<1.27,>=1.25.4, but you have urllib3 2.5.0 which is incompatible.\n",
      "conda-repo-cli 1.0.20 requires clyent==1.2.1, but you have clyent 1.2.2 which is incompatible.\n",
      "conda-repo-cli 1.0.20 requires nbformat==5.4.0, but you have nbformat 5.10.4 which is incompatible.\n",
      "conda-repo-cli 1.0.20 requires python-dateutil==2.8.2, but you have python-dateutil 2.9.0.post0 which is incompatible.\n",
      "conda-repo-cli 1.0.20 requires PyYAML==6.0, but you have pyyaml 6.0.2 which is incompatible.\n",
      "conda-repo-cli 1.0.20 requires requests==2.28.1, but you have requests 2.32.5 which is incompatible.\n",
      "distributed 2022.7.0 requires tornado<6.2,>=6.0.3, but you have tornado 6.5.2 which is incompatible.\n",
      "nbclassic 0.3.5 requires jupyter-server~=1.8, but you have jupyter-server 2.17.0 which is incompatible.\n",
      "nbclassic 0.3.5 requires notebook<7, but you have notebook 7.4.5 which is incompatible.\n",
      "numba 0.55.1 requires numpy<1.22,>=1.18, but you have numpy 2.0.2 which is incompatible.\n",
      "python-lsp-server 1.5.0 requires jedi<0.19.0,>=0.17.2, but you have jedi 0.19.2 which is incompatible.\n",
      "scipy 1.9.1 requires numpy<1.25.0,>=1.18.5, but you have numpy 2.0.2 which is incompatible.\n",
      "spyder 5.3.3 requires ipython<8.0.0,>=7.31.1, but you have ipython 8.18.1 which is incompatible.\n",
      "spyder 5.3.3 requires jedi<0.19.0,>=0.17.2, but you have jedi 0.19.2 which is incompatible.\n",
      "spyder-kernels 2.3.3 requires ipython<8,>=7.31.1; python_version >= \"3\", but you have ipython 8.18.1 which is incompatible.\n",
      "spyder-kernels 2.3.3 requires jupyter-client<8,>=7.3.4; python_version >= \"3\", but you have jupyter-client 8.6.3 which is incompatible.\n",
      "tensorboard 2.11.2 requires protobuf<4,>=3.9.2, but you have protobuf 6.32.1 which is incompatible.\n",
      "tensorflow 2.11.0 requires protobuf<3.20,>=3.9.2, but you have protobuf 6.32.1 which is incompatible.\n",
      "virtualenv 20.24.5 requires platformdirs<4,>=3.9.1, but you have platformdirs 4.4.0 which is incompatible.\n",
      "ydata-profiling 4.3.1 requires numpy<1.24,>=1.16.0, but you have numpy 2.0.2 which is incompatible.\n",
      "ydata-profiling 4.3.1 requires pandas!=1.4.0,<2.1,>1.1, but you have pandas 2.3.2 which is incompatible.\u001b[0m\u001b[31m\n",
      "\u001b[0mSuccessfully installed MarkupSafe-3.0.2 anyio-4.10.0 appnope-0.1.4 argon2-cffi-25.1.0 argon2-cffi-bindings-25.1.0 arrow-1.3.0 asttokens-3.0.0 async-lru-2.0.5 attrs-25.3.0 babel-2.17.0 beautifulsoup4-4.13.5 bleach-6.2.0 certifi-2025.8.3 cffi-2.0.0 charset_normalizer-3.4.3 comm-0.2.3 debugpy-1.8.17 decorator-5.2.1 defusedxml-0.7.1 exceptiongroup-1.3.0 executing-2.2.1 fastjsonschema-2.21.2 fqdn-1.5.1 h11-0.16.0 httpcore-1.0.9 httpx-0.28.1 idna-3.10 importlib-metadata-8.7.0 ipykernel-6.30.1 ipython-8.18.1 ipywidgets-8.1.7 isoduration-20.11.0 jedi-0.19.2 jinja2-3.1.6 json5-0.12.1 jsonpointer-3.0.0 jsonschema-4.25.1 jsonschema-specifications-2025.9.1 jupyter-1.1.1 jupyter-client-8.6.3 jupyter-console-6.6.3 jupyter-core-5.8.1 jupyter-events-0.12.0 jupyter-lsp-2.3.0 jupyter-server-2.17.0 jupyter-server-terminals-0.5.3 jupyterlab-4.4.7 jupyterlab-pygments-0.3.0 jupyterlab-server-2.27.3 jupyterlab_widgets-3.0.15 lark-1.2.2 matplotlib-inline-0.1.7 mistune-3.1.4 nbclient-0.10.2 nbconvert-7.16.6 nbformat-5.10.4 nest-asyncio-1.6.0 notebook-7.4.5 notebook-shim-0.2.4 numpy-2.0.2 overrides-7.7.0 packaging-25.0 pandas-2.3.2 pandocfilters-1.5.1 parso-0.8.5 pexpect-4.9.0 platformdirs-4.4.0 prometheus-client-0.23.1 prompt-toolkit-3.0.52 psutil-7.1.0 ptyprocess-0.7.0 pure-eval-0.2.3 pycparser-2.23 pygments-2.19.2 python-dateutil-2.9.0.post0 python-json-logger-3.3.0 pytz-2025.2 pyyaml-6.0.2 pyzmq-27.1.0 referencing-0.36.2 requests-2.32.5 rfc3339-validator-0.1.4 rfc3986-validator-0.1.1 rfc3987-syntax-1.1.0 rpds-py-0.27.1 send2trash-1.8.3 setuptools-80.9.0 six-1.17.0 sniffio-1.3.1 soupsieve-2.8 stack-data-0.6.3 terminado-0.18.1 tinycss2-1.4.0 tomli-2.2.1 tornado-6.5.2 traitlets-5.14.3 types-python-dateutil-2.9.0.20250822 typing-extensions-4.15.0 tzdata-2025.2 uri-template-1.3.0 urllib3-2.5.0 wcwidth-0.2.13 webcolors-24.11.1 webencodings-0.5.1 websocket-client-1.8.0 widgetsnbextension-4.0.14 zipp-3.23.0\n"
     ]
    }
   ],
   "source": [
    "#pip install pandas_visual_analysis\n",
    "\n",
    "!pip install --force-reinstall --no-cache-dir numpy pandas jupyter ipykernel"
   ]
  },
  {
   "cell_type": "markdown",
   "metadata": {
    "id": "jlwvKT6Mj3S1"
   },
   "source": [
    "# **Import Libraries and Dataset**"
   ]
  },
  {
   "cell_type": "code",
   "execution_count": null,
   "metadata": {
    "colab": {
     "base_uri": "https://localhost:8080/",
     "height": 71
    },
    "id": "HWkTZRL9hb2s",
    "outputId": "af8c72c6-bd78-4b9a-fab9-ac9d415131d4"
   },
   "outputs": [],
   "source": [
    "import tensorflow as tf\n",
    "import pandas as pd\n",
    "import numpy as np\n",
    "import seaborn as sns\n",
    "import matplotlib.pyplot as plt\n",
    "from tensorflow import keras\n",
    "import joblib"
   ]
  },
  {
   "cell_type": "code",
   "execution_count": null,
   "metadata": {
    "id": "exmdKPvVkQGt"
   },
   "outputs": [],
   "source": [
    "house_sales = pd.read_csv('kc_house_data.csv', encoding = 'ISO-8859-1')"
   ]
  },
  {
   "cell_type": "code",
   "execution_count": null,
   "metadata": {
    "colab": {
     "base_uri": "https://localhost:8080/",
     "height": 439
    },
    "id": "AtbtW5avlFhv",
    "outputId": "2c4a3ebc-e397-459f-d1eb-d94471030097"
   },
   "outputs": [],
   "source": [
    "house_sales"
   ]
  },
  {
   "cell_type": "code",
   "execution_count": null,
   "metadata": {
    "colab": {
     "base_uri": "https://localhost:8080/",
     "height": 317
    },
    "id": "_OkreOMelZBn",
    "outputId": "f4a9fb04-b5b5-4c80-f275-769ec04f7fd0"
   },
   "outputs": [],
   "source": [
    "house_sales.describe()"
   ]
  },
  {
   "cell_type": "code",
   "execution_count": null,
   "metadata": {},
   "outputs": [],
   "source": [
    "house_sales.info()"
   ]
  },
  {
   "cell_type": "markdown",
   "metadata": {
    "id": "320Aqiuxls9h"
   },
   "source": [
    "# **Data Cleanup and Visualization**"
   ]
  },
  {
   "cell_type": "code",
   "execution_count": null,
   "metadata": {
    "colab": {
     "base_uri": "https://localhost:8080/",
     "height": 308
    },
    "id": "rhJzKCZyl1M9",
    "outputId": "33ecce22-df87-426f-9cd3-48439987f42b"
   },
   "outputs": [],
   "source": [
    "sns.scatterplot(x='sqft_living', y='price', data = house_sales )"
   ]
  },
  {
   "cell_type": "code",
   "execution_count": null,
   "metadata": {},
   "outputs": [],
   "source": [
    "#sns.scatterplot(x='long', y='lat', data = house_sales )\n",
    "house_sales.plot(kind='scatter', x = 'long', y='lat', alpha = 0.4, s =house_sales['sqft_living']/200, label = 'sqft_living', figsize = (20,14),\n",
    "                c='price', cmap=plt.get_cmap('jet'), colorbar = True)"
   ]
  },
  {
   "cell_type": "code",
   "execution_count": null,
   "metadata": {
    "colab": {
     "base_uri": "https://localhost:8080/",
     "height": 1000
    },
    "id": "bGtox29FmVe7",
    "outputId": "4c64900e-0bf5-49eb-bcc8-62a44903c3e2"
   },
   "outputs": [],
   "source": [
    "#alternative plot\n",
    "#f, ax = plt.subplots(figsize = (20, 20))\n",
    "#sns.heatmap(house_sales.corr(), annot = True)\n",
    "\n",
    "corrmat=house_sales.corr() \n",
    "top_corr_features=corrmat.index \n",
    "plt.figure(figsize=(20,20)) \n",
    "#plot heat map \n",
    "g=sns.heatmap(house_sales[top_corr_features].corr(),annot=True,cmap=\"RdYlGn\")"
   ]
  },
  {
   "cell_type": "code",
   "execution_count": null,
   "metadata": {},
   "outputs": [],
   "source": [
    "house_high = house_sales[house_sales['price']>= 650000]\n",
    "house_high"
   ]
  },
  {
   "cell_type": "code",
   "execution_count": null,
   "metadata": {},
   "outputs": [],
   "source": [
    "corrmat1=house_high.corr() \n",
    "top_corr_features1=corrmat1.index \n",
    "plt.figure(figsize=(20,20)) \n",
    "#plot heat map \n",
    "g=sns.heatmap(house_high[top_corr_features1].corr(),annot=True,cmap=\"RdYlGn\")"
   ]
  },
  {
   "cell_type": "markdown",
   "metadata": {},
   "source": [
    "## Feature importance for Prices >= $650k\n"
   ]
  },
  {
   "cell_type": "code",
   "execution_count": null,
   "metadata": {
    "scrolled": true
   },
   "outputs": [],
   "source": [
    "#Using dataset for high prices\n",
    "yh = house_high['price']\n",
    "yh"
   ]
  },
  {
   "cell_type": "code",
   "execution_count": null,
   "metadata": {},
   "outputs": [],
   "source": [
    "xh = house_high.drop(['price','date'], axis=1)\n",
    "xh.shape"
   ]
  },
  {
   "cell_type": "code",
   "execution_count": null,
   "metadata": {},
   "outputs": [],
   "source": [
    "from sklearn.ensemble import ExtraTreesRegressor\n",
    "#import matplotlib.pyplot as plt\n",
    "model_h = ExtraTreesRegressor()\n",
    "model_h.fit(xh,yh)"
   ]
  },
  {
   "cell_type": "code",
   "execution_count": null,
   "metadata": {},
   "outputs": [],
   "source": [
    "print(model_h.feature_importances_)"
   ]
  },
  {
   "cell_type": "code",
   "execution_count": null,
   "metadata": {},
   "outputs": [],
   "source": [
    "#plot graph of feature importances for better visualization\n",
    "#Factors responsible for higher property value - >= $650k price \n",
    "\n",
    "feat_importances = pd.Series(model_h.feature_importances_, index=xh.columns)\n",
    "feat_importances.nlargest(10).plot(kind='barh')\n",
    "plt.show()"
   ]
  },
  {
   "cell_type": "code",
   "execution_count": null,
   "metadata": {},
   "outputs": [],
   "source": [
    "house_high.hist(bins=20, figsize = (20,20), color = 'b')"
   ]
  },
  {
   "cell_type": "code",
   "execution_count": null,
   "metadata": {
    "colab": {
     "base_uri": "https://localhost:8080/",
     "height": 1000
    },
    "id": "VFUn5xN1gxLh",
    "outputId": "376976f6-ddae-4c71-b375-b4a99248c244"
   },
   "outputs": [],
   "source": [
    "house_sales.hist(bins=20, figsize = (20,20), color = 'g')"
   ]
  },
  {
   "cell_type": "code",
   "execution_count": null,
   "metadata": {
    "colab": {
     "base_uri": "https://localhost:8080/",
     "height": 221
    },
    "id": "5s3QZ0-8N4Pw",
    "outputId": "9bf9f54a-38a7-487c-d820-225bed81cf5b"
   },
   "outputs": [],
   "source": [
    "#Data Cleaning \n",
    "y = house_sales['price']\n",
    "y"
   ]
  },
  {
   "cell_type": "code",
   "execution_count": null,
   "metadata": {
    "colab": {
     "base_uri": "https://localhost:8080/",
     "height": 34
    },
    "id": "uYVtt6wnbs5F",
    "outputId": "300e718d-dd7d-4146-a368-6e89440cfe4d"
   },
   "outputs": [],
   "source": [
    "y.shape"
   ]
  },
  {
   "cell_type": "code",
   "execution_count": null,
   "metadata": {},
   "outputs": [],
   "source": [
    "#X = house_sales[['bedrooms', 'bathrooms', 'waterfront', 'grade', 'sqft_above', 'sqft_living', 'lat', 'long', 'sqft_living15']]\n",
    "X = house_sales.drop(['price', 'date', 'id', 'view'], axis=1)\n",
    "\n",
    "X.head()"
   ]
  },
  {
   "cell_type": "markdown",
   "metadata": {},
   "source": [
    "# First Model - Random Forest Regressor"
   ]
  },
  {
   "cell_type": "code",
   "execution_count": null,
   "metadata": {},
   "outputs": [],
   "source": [
    "### Feature Importance categorisation \n",
    "\n",
    "from sklearn.ensemble import ExtraTreesRegressor\n",
    "#import matplotlib.pyplot as plt\n",
    "model_01 = ExtraTreesRegressor()\n",
    "model_01.fit(X,y)"
   ]
  },
  {
   "cell_type": "code",
   "execution_count": null,
   "metadata": {},
   "outputs": [],
   "source": [
    "# feature Importance\n",
    "\n",
    "print(model_01.feature_importances_)"
   ]
  },
  {
   "cell_type": "code",
   "execution_count": null,
   "metadata": {},
   "outputs": [],
   "source": [
    "#plot graph of feature importances for better visualization\n",
    "\n",
    "feat_importances = pd.Series(model_01.feature_importances_, index=X.columns)\n",
    "feat_importances.nlargest(7).plot(kind='barh')\n",
    "plt.show()"
   ]
  },
  {
   "cell_type": "markdown",
   "metadata": {},
   "source": [
    "### **'Grade' and 'Sqft_living' seem to be the most important features**"
   ]
  },
  {
   "cell_type": "code",
   "execution_count": null,
   "metadata": {
    "colab": {
     "base_uri": "https://localhost:8080/",
     "height": 419
    },
    "id": "8UIF_8O-b9WM",
    "outputId": "49edadc8-1b9c-4a91-a0ac-b666bf50b4a0"
   },
   "outputs": [],
   "source": [
    "#We choose input features with reasonable correlation coefficients to price\n",
    "#x = house_sales[['bathrooms', 'bedrooms', 'sqft_living', 'sqft_lot', 'floors', 'sqft_above', 'sqft_basement']]\n",
    "#x"
   ]
  },
  {
   "cell_type": "markdown",
   "metadata": {},
   "source": [
    "### Split data into training and testing dataset using the Stratified Shuffle split based on the 'sqft_living' input"
   ]
  },
  {
   "cell_type": "code",
   "execution_count": null,
   "metadata": {},
   "outputs": [],
   "source": [
    "#Join the clean input features X and the output y1 in a dataframe\n",
    "final_house = pd.concat([X, y], axis=1)\n",
    "final_house.head()"
   ]
  },
  {
   "cell_type": "code",
   "execution_count": null,
   "metadata": {},
   "outputs": [],
   "source": [
    "#from sklearn.model_selection import train_test_split\n",
    "#X_train, X_test, y_train, y_test = train_test_split(X, y, test_size = 0.2)"
   ]
  },
  {
   "cell_type": "code",
   "execution_count": null,
   "metadata": {},
   "outputs": [],
   "source": [
    "#prepare data by distributing it \n",
    "final_house[\"sqft_living_cut\"] = pd.cut( house_sales[\"sqft_living\"], \n",
    "                                bins =[ 0, 1000, 2000, 3000, 4000, np.inf], \n",
    "                                labels =[ 1, 2, 3, 4, 5])"
   ]
  },
  {
   "cell_type": "code",
   "execution_count": null,
   "metadata": {},
   "outputs": [],
   "source": [
    "final_house['sqft_living_cut'].hist()"
   ]
  },
  {
   "cell_type": "code",
   "execution_count": null,
   "metadata": {},
   "outputs": [],
   "source": [
    "#split data using Stratified shuffle Split\n",
    "from sklearn.model_selection import StratifiedShuffleSplit\n",
    "\n",
    "split = StratifiedShuffleSplit(n_splits = 1, test_size = 0.2, random_state = 2)\n",
    "for train_index, test_index in split.split(final_house, final_house['sqft_living_cut']):\n",
    "    train_set = final_house.loc[train_index]\n",
    "    test_set = final_house.loc[test_index]"
   ]
  },
  {
   "cell_type": "code",
   "execution_count": null,
   "metadata": {},
   "outputs": [],
   "source": [
    "final_house = final_house.drop(['sqft_living_cut'], axis=1)"
   ]
  },
  {
   "cell_type": "code",
   "execution_count": null,
   "metadata": {},
   "outputs": [],
   "source": [
    "train_set.shape, test_set.shape"
   ]
  },
  {
   "cell_type": "code",
   "execution_count": null,
   "metadata": {},
   "outputs": [],
   "source": [
    "train_set.head()"
   ]
  },
  {
   "cell_type": "code",
   "execution_count": null,
   "metadata": {},
   "outputs": [],
   "source": [
    "X_train = train_set.iloc[:,:-2]\n",
    "y_train = train_set.iloc[:,-2]\n",
    "\n",
    "X_test = test_set.iloc[:,:-2]\n",
    "y_test = test_set.iloc[:,-2]"
   ]
  },
  {
   "cell_type": "code",
   "execution_count": null,
   "metadata": {},
   "outputs": [],
   "source": [
    "X_train.shape, y_train.shape"
   ]
  },
  {
   "cell_type": "code",
   "execution_count": null,
   "metadata": {},
   "outputs": [],
   "source": [
    "X_train"
   ]
  },
  {
   "cell_type": "code",
   "execution_count": null,
   "metadata": {},
   "outputs": [],
   "source": [
    "y_train.head()"
   ]
  },
  {
   "cell_type": "code",
   "execution_count": null,
   "metadata": {},
   "outputs": [],
   "source": [
    "from sklearn.ensemble import RandomForestRegressor"
   ]
  },
  {
   "cell_type": "code",
   "execution_count": null,
   "metadata": {},
   "outputs": [],
   "source": [
    "from sklearn.model_selection import RandomizedSearchCV"
   ]
  },
  {
   "cell_type": "code",
   "execution_count": null,
   "metadata": {},
   "outputs": [],
   "source": [
    "n_estimators = [int(x) for x in np.linspace(start = 300, stop = 1500, num = 13)]\n",
    "print(n_estimators)"
   ]
  },
  {
   "cell_type": "code",
   "execution_count": null,
   "metadata": {},
   "outputs": [],
   "source": [
    "##Hyperparameters\n",
    "\n",
    "# Number of trees in random forest\n",
    "n_estimators = [int(x) for x in np.linspace(start = 300, stop = 1500, num = 13)]\n",
    "# Number of features to consider at every split\n",
    "max_features = ['auto', 'sqrt']\n",
    "# Maximum number of levels in tree\n",
    "max_depth = [int(x) for x in np.linspace(5, 30, num = 6)]\n",
    "# max_depth.append(None)\n",
    "# Minimum number of samples required to split a node\n",
    "min_samples_split = [2, 5, 10, 15, 100]\n",
    "# Minimum number of samples required at each leaf node\n",
    "min_samples_leaf = [1, 2, 5, 10]"
   ]
  },
  {
   "cell_type": "code",
   "execution_count": null,
   "metadata": {},
   "outputs": [],
   "source": [
    "random_grid = {'n_estimators': n_estimators,\n",
    "               'max_features': max_features,\n",
    "               'max_depth': max_depth,\n",
    "               'min_samples_split': min_samples_split,\n",
    "               'min_samples_leaf': min_samples_leaf}\n",
    "\n",
    "\n",
    "print(random_grid)"
   ]
  },
  {
   "cell_type": "code",
   "execution_count": null,
   "metadata": {},
   "outputs": [],
   "source": [
    "# Use the random grid to search for best hyperparameters\n",
    "# First create the base model to tune\n",
    "rf_model01 = RandomForestRegressor()"
   ]
  },
  {
   "cell_type": "code",
   "execution_count": null,
   "metadata": {},
   "outputs": [],
   "source": [
    "# Random search of parameters, using 3 fold cross validation, \n",
    "# search across 100 different combinations\n",
    "rf_random = RandomizedSearchCV(estimator = rf_model01, param_distributions = random_grid,scoring='neg_mean_squared_error', \n",
    "                               n_iter = 10, cv = 5, verbose=2, random_state=42, n_jobs = 1)"
   ]
  },
  {
   "cell_type": "code",
   "execution_count": null,
   "metadata": {},
   "outputs": [],
   "source": [
    "rf_random.fit(X_train, y_train)"
   ]
  },
  {
   "cell_type": "code",
   "execution_count": null,
   "metadata": {},
   "outputs": [],
   "source": [
    "rf_random.best_params_"
   ]
  },
  {
   "cell_type": "code",
   "execution_count": null,
   "metadata": {},
   "outputs": [],
   "source": [
    "rf_random.best_score_"
   ]
  },
  {
   "cell_type": "code",
   "execution_count": null,
   "metadata": {},
   "outputs": [],
   "source": [
    "predictions=rf_random.predict(X_test)"
   ]
  },
  {
   "cell_type": "code",
   "execution_count": null,
   "metadata": {},
   "outputs": [],
   "source": [
    "sns.distplot(y_test-predictions)"
   ]
  },
  {
   "cell_type": "code",
   "execution_count": null,
   "metadata": {},
   "outputs": [],
   "source": [
    "plt.scatter(y_test,predictions)"
   ]
  },
  {
   "cell_type": "code",
   "execution_count": null,
   "metadata": {},
   "outputs": [],
   "source": [
    "#Model Evaluation\n",
    "\n",
    "k = X_test.shape[1]\n",
    "n = len(X_test)\n",
    "n, k"
   ]
  },
  {
   "cell_type": "code",
   "execution_count": null,
   "metadata": {},
   "outputs": [],
   "source": [
    "from sklearn.metrics import r2_score, mean_squared_error, mean_absolute_error\n",
    "from math import sqrt\n",
    "\n",
    "RMSE = float(format(np.sqrt(mean_squared_error(y_test, predictions)),'.3f'))\n",
    "MSE = mean_squared_error(y_test, predictions)\n",
    "MAE = mean_absolute_error(y_test, predictions)\n",
    "r2 = r2_score(y_test, predictions)\n",
    "adj_r2 = 1-(1-r2)*(n-1)/(n-k-1)\n",
    "\n",
    "print('RMSE =',RMSE, '\\nMSE =',MSE, '\\nMAE =',MAE, '\\nR2 =', r2, '\\nAdjusted R2 =', adj_r2) "
   ]
  },
  {
   "cell_type": "markdown",
   "metadata": {},
   "source": [
    "**Good model with 86% accuracy to predict house prices from historical data.**"
   ]
  },
  {
   "cell_type": "code",
   "execution_count": null,
   "metadata": {},
   "outputs": [],
   "source": [
    "#import pickle\n",
    "# open a file, where you ant to store the data\n",
    "#file = open('random_forest_regression_model.pkl', 'wb')\n",
    "\n",
    "# dump information to that file\n",
    "#pickle.dump(rf_random, file)"
   ]
  },
  {
   "cell_type": "code",
   "execution_count": null,
   "metadata": {},
   "outputs": [],
   "source": [
    "#joblib.dump(rf_random, \"random_forest_regression_model.joblib\", compress = 9)"
   ]
  },
  {
   "cell_type": "markdown",
   "metadata": {},
   "source": [
    "# Second Model - Artificial Neural Network"
   ]
  },
  {
   "cell_type": "code",
   "execution_count": null,
   "metadata": {
    "id": "TBU9hGlYdeao"
   },
   "outputs": [],
   "source": [
    "#Normalise the inputs 'X' and output 'y' for training and testing data\n",
    "\n",
    "from sklearn.preprocessing import MinMaxScaler\n",
    "scaler = MinMaxScaler()\n",
    "X_tr = scaler.fit_transform(X_train)\n",
    "X_te = scaler.fit_transform(X_test)\n",
    "\n"
   ]
  },
  {
   "cell_type": "code",
   "execution_count": null,
   "metadata": {},
   "outputs": [],
   "source": [
    "X_tr"
   ]
  },
  {
   "cell_type": "code",
   "execution_count": null,
   "metadata": {},
   "outputs": [],
   "source": [
    "X_te"
   ]
  },
  {
   "cell_type": "code",
   "execution_count": null,
   "metadata": {
    "id": "0C6xHEibfT7A"
   },
   "outputs": [],
   "source": [
    "y_train=y_train.values.reshape(-1,1)\n",
    "y_test=y_test.values.reshape(-1,1)\n",
    "\n",
    "y_tr = scaler.fit_transform(y_train)\n",
    "y_te = scaler.fit_transform(y_test)"
   ]
  },
  {
   "cell_type": "code",
   "execution_count": null,
   "metadata": {},
   "outputs": [],
   "source": []
  },
  {
   "cell_type": "code",
   "execution_count": null,
   "metadata": {},
   "outputs": [],
   "source": [
    "y_tr"
   ]
  },
  {
   "cell_type": "code",
   "execution_count": null,
   "metadata": {
    "colab": {
     "base_uri": "https://localhost:8080/",
     "height": 51
    },
    "id": "Og6bKCbGfDdy",
    "outputId": "f43f1409-45fe-4d9d-aab9-6926e61da133"
   },
   "outputs": [],
   "source": [
    "scaler.data_max_"
   ]
  },
  {
   "cell_type": "code",
   "execution_count": null,
   "metadata": {
    "colab": {
     "base_uri": "https://localhost:8080/",
     "height": 34
    },
    "id": "PJUTja--fLZ0",
    "outputId": "5106e1ac-d86d-4fd9-fb0e-5b5b3c92b938"
   },
   "outputs": [],
   "source": [
    "X_tr.shape, X_te.shape, y_tr.shape"
   ]
  },
  {
   "cell_type": "code",
   "execution_count": null,
   "metadata": {
    "colab": {
     "base_uri": "https://localhost:8080/",
     "height": 136
    },
    "id": "Km5xNUMgfiIe",
    "outputId": "89c3b46a-98ba-4ca5-e931-d549127e4099"
   },
   "outputs": [],
   "source": [
    "y_tr.shape, y_te.shape"
   ]
  },
  {
   "cell_type": "markdown",
   "metadata": {},
   "source": [
    "# Create Model"
   ]
  },
  {
   "cell_type": "code",
   "execution_count": null,
   "metadata": {
    "id": "WzmPP1Nri9w3"
   },
   "outputs": [],
   "source": [
    "model = tf.keras.models.Sequential()\n",
    "model.add(tf.keras.layers.Dense(units=200, activation='relu', input_shape=(17, )))\n",
    "model.add(tf.keras.layers.Dense(units=150, activation='relu'))\n",
    "model.add(tf.keras.layers.Dense(units=100, activation='relu'))\n",
    "model.add(tf.keras.layers.Dense(units=50, activation='relu'))\n",
    "model.add(tf.keras.layers.Dense(units=1, activation='linear'))"
   ]
  },
  {
   "cell_type": "code",
   "execution_count": null,
   "metadata": {
    "colab": {
     "base_uri": "https://localhost:8080/",
     "height": 289
    },
    "id": "d583yVsDjdXa",
    "outputId": "04e4d5c3-3bc2-47d1-990a-42f6eee6e67f"
   },
   "outputs": [],
   "source": [
    "model.summary()"
   ]
  },
  {
   "cell_type": "code",
   "execution_count": null,
   "metadata": {
    "id": "fW8DzjGyjm2n"
   },
   "outputs": [],
   "source": [
    "model.compile(optimizer='Adam', loss='mean_squared_error')"
   ]
  },
  {
   "cell_type": "code",
   "execution_count": null,
   "metadata": {
    "colab": {
     "base_uri": "https://localhost:8080/",
     "height": 1000
    },
    "id": "qKmhEcnPwzUn",
    "outputId": "5bb6dd74-9a5e-4d56-8b87-0461eb7ed902"
   },
   "outputs": [],
   "source": [
    "epochs_hist = model.fit(X_tr, y_tr, epochs = 100, batch_size = 50, validation_split = 0.2)"
   ]
  },
  {
   "cell_type": "markdown",
   "metadata": {
    "id": "e8Lg1fRYxWih"
   },
   "source": [
    "#**Evaluate the Model**"
   ]
  },
  {
   "cell_type": "code",
   "execution_count": null,
   "metadata": {
    "colab": {
     "base_uri": "https://localhost:8080/",
     "height": 164
    },
    "id": "J_XXeNjExcQE",
    "outputId": "deb92ac5-10a4-44a9-fa31-cba01dc06bf1"
   },
   "outputs": [],
   "source": [
    "epochs_hist.history.keys()"
   ]
  },
  {
   "cell_type": "code",
   "execution_count": null,
   "metadata": {
    "colab": {
     "base_uri": "https://localhost:8080/",
     "height": 232
    },
    "id": "um_yix5Sx4Lx",
    "outputId": "c3aeee45-8cdd-41c1-e1af-efd2b7fdefb9"
   },
   "outputs": [],
   "source": [
    "plt.plot(epochs_hist.history['loss'])\n",
    "plt.plot(epochs_hist.history['val_loss'])\n",
    "plt.title('Model Loss Progress During Training')\n",
    "plt.xlabel('Epoch')\n",
    "plt.ylabel('Training and Validation Loss')\n",
    "plt.legend(['Training Loss', 'Validation Loss'])"
   ]
  },
  {
   "cell_type": "code",
   "execution_count": null,
   "metadata": {
    "id": "a2WAljmpUcN3"
   },
   "outputs": [],
   "source": [
    "# Try predict using inputs values\n",
    "# 'bedrooms','bathrooms','sqft_living','sqft_lot','floors', 'sqft_above', 'sqft_basement'\n",
    "#X_test_1 = np.array([[ 4, 3, 1960, 5000, 1, 2000, 3000 ]])\n",
    "\n",
    "#scaler_1 = MinMaxScaler()\n",
    "#X_test_scaled_1 = scaler_1.fit_transform(X_test_1)\n",
    "\n",
    "#y_predict_1 = model.predict(X_test_scaled_1)\n",
    "\n",
    "#y_predict_1 = scaler.inverse_transform(y_predict_1)\n",
    "#y_predict_1"
   ]
  },
  {
   "cell_type": "code",
   "execution_count": null,
   "metadata": {
    "id": "RA5LE50oYFIa"
   },
   "outputs": [],
   "source": [
    "# \n",
    "y_predict = model.predict(X_te)\n",
    "plt.plot(y_te, y_predict, \"^\", color = 'r')\n",
    "plt.xlabel('Model Predictions')\n",
    "plt.ylabel('True Values')"
   ]
  },
  {
   "cell_type": "code",
   "execution_count": null,
   "metadata": {
    "id": "_papWs0QkfrA"
   },
   "outputs": [],
   "source": [
    "y_predict_orig = scaler.inverse_transform(y_predict)\n",
    "y_test_orig = scaler.inverse_transform(y_te)"
   ]
  },
  {
   "cell_type": "code",
   "execution_count": null,
   "metadata": {
    "id": "W3CSgR4GkvRB"
   },
   "outputs": [],
   "source": [
    "plt.plot(y_test_orig, y_predict_orig, \"^\", color = 'r')\n",
    "plt.xlabel('Model Predictions')\n",
    "plt.ylabel('True Values')\n",
    "plt.xlim(0, 5000000)\n",
    "plt.ylim(0, 3000000)\n"
   ]
  },
  {
   "cell_type": "code",
   "execution_count": null,
   "metadata": {
    "id": "ksstmfP8kyNB"
   },
   "outputs": [],
   "source": [
    "k = X_te.shape[1]\n",
    "n = len(X_te)\n",
    "\n",
    "n, k"
   ]
  },
  {
   "cell_type": "code",
   "execution_count": null,
   "metadata": {
    "id": "mn8GNIxXk8KV"
   },
   "outputs": [],
   "source": [
    "from sklearn.metrics import r2_score, mean_squared_error, mean_absolute_error\n",
    "from math import sqrt\n",
    "\n",
    "RMSE = float(format(np.sqrt(mean_squared_error(y_test_orig, y_predict_orig)),'.3f'))\n",
    "MSE = mean_squared_error(y_test_orig, y_predict_orig)\n",
    "MAE = mean_absolute_error(y_test_orig, y_predict_orig)\n",
    "r2 = r2_score(y_test_orig, y_predict_orig)\n",
    "adj_r2 = 1-(1-r2)*(n-1)/(n-k-1)\n",
    "\n",
    "print('RMSE =',RMSE, '\\nMSE =',MSE, '\\nMAE =',MAE, '\\nR2 =', r2, '\\nAdjusted R2 =', adj_r2) \n"
   ]
  },
  {
   "cell_type": "markdown",
   "metadata": {
    "id": "y7ZeV3ssloO3"
   },
   "source": [
    "# **Try a wider range of inputs split**"
   ]
  },
  {
   "cell_type": "code",
   "execution_count": null,
   "metadata": {
    "id": "B8ddiVKxlxJB"
   },
   "outputs": [],
   "source": [
    "Xa = house_sales.drop(['price', 'date', 'id', 'view'], axis=1)\n",
    "#X= house_sales[['bedrooms','bathrooms','sqft_living','sqft_lot','floors', 'sqft_basement', 'waterfront', 'condition', 'grade', 'sqft_above', 'yr_built', \n",
    "#'yr_renovated', 'zipcode', 'lat', 'long', 'sqft_living15', 'sqft_lot15']]"
   ]
  },
  {
   "cell_type": "code",
   "execution_count": null,
   "metadata": {
    "colab": {
     "base_uri": "https://localhost:8080/",
     "height": 439
    },
    "id": "AKfJWPLRl-Nt",
    "outputId": "0617d35e-1ad1-4000-ee38-8fd6ecb4916f"
   },
   "outputs": [],
   "source": [
    "Xa"
   ]
  },
  {
   "cell_type": "code",
   "execution_count": null,
   "metadata": {
    "id": "N1G_M-MgmRI9"
   },
   "outputs": [],
   "source": [
    "from sklearn.preprocessing import MinMaxScaler\n",
    "scaler = MinMaxScaler()\n",
    "X_scale = scaler.fit(Xa)"
   ]
  },
  {
   "cell_type": "code",
   "execution_count": null,
   "metadata": {},
   "outputs": [],
   "source": [
    "joblib.dump(scaler, 'scaler_x.gz')"
   ]
  },
  {
   "cell_type": "code",
   "execution_count": null,
   "metadata": {},
   "outputs": [],
   "source": [
    "X_scaled = scaler.fit_transform(Xa)"
   ]
  },
  {
   "cell_type": "code",
   "execution_count": null,
   "metadata": {},
   "outputs": [],
   "source": [
    "X_scaled"
   ]
  },
  {
   "cell_type": "code",
   "execution_count": null,
   "metadata": {},
   "outputs": [],
   "source": []
  },
  {
   "cell_type": "code",
   "execution_count": null,
   "metadata": {
    "id": "xD0fnMJAmUmE"
   },
   "outputs": [],
   "source": [
    "Y= house_sales['price']"
   ]
  },
  {
   "cell_type": "code",
   "execution_count": null,
   "metadata": {
    "id": "SfCayprLmbNq"
   },
   "outputs": [],
   "source": [
    "Y = Y.values.reshape(-1,1)\n",
    "Y_scale = scaler.fit(Y)"
   ]
  },
  {
   "cell_type": "code",
   "execution_count": null,
   "metadata": {},
   "outputs": [],
   "source": [
    "joblib.dump(scaler, 'scaler_y.gz')"
   ]
  },
  {
   "cell_type": "code",
   "execution_count": null,
   "metadata": {},
   "outputs": [],
   "source": [
    "Y_scaled = scaler.fit_transform(Y)"
   ]
  },
  {
   "cell_type": "code",
   "execution_count": null,
   "metadata": {},
   "outputs": [],
   "source": [
    "Y_scaled"
   ]
  },
  {
   "cell_type": "code",
   "execution_count": null,
   "metadata": {
    "id": "ZYlWFMPomyYo"
   },
   "outputs": [],
   "source": [
    "from sklearn.model_selection import train_test_split\n",
    "X_train, X_test, y_train, y_test = train_test_split(X_scaled, Y_scaled, test_size = 0.25)"
   ]
  },
  {
   "cell_type": "code",
   "execution_count": null,
   "metadata": {
    "id": "S4s2xEnSm-de"
   },
   "outputs": [],
   "source": [
    "model = tf.keras.models.Sequential()\n",
    "model.add(tf.keras.layers.Dense(units=200, activation='relu', input_shape=(17, )))\n",
    "model.add(tf.keras.layers.Dense(units=100, activation='relu'))\n",
    "model.add(tf.keras.layers.Dense(units=100, activation='relu'))\n",
    "model.add(tf.keras.layers.Dense(units=50, activation='relu'))\n",
    "model.add(tf.keras.layers.Dense(units=1, activation='linear'))"
   ]
  },
  {
   "cell_type": "code",
   "execution_count": null,
   "metadata": {
    "id": "rALjmahNnBiE"
   },
   "outputs": [],
   "source": [
    "model.compile(optimizer='Adam', loss='mean_squared_error')"
   ]
  },
  {
   "cell_type": "code",
   "execution_count": null,
   "metadata": {
    "colab": {
     "base_uri": "https://localhost:8080/",
     "height": 1000
    },
    "id": "45jHciMjnJvJ",
    "outputId": "f9a9abc8-71e2-4b14-d765-dda2f72534f7"
   },
   "outputs": [],
   "source": [
    "epochs_hist = model.fit(X_train, y_train, epochs = 100, batch_size = 50, validation_split = 0.20)"
   ]
  },
  {
   "cell_type": "code",
   "execution_count": null,
   "metadata": {
    "colab": {
     "base_uri": "https://localhost:8080/",
     "height": 312
    },
    "id": "mXneOZ13nWyi",
    "outputId": "9b9b13d2-ef46-4241-9bba-a17d22aeaecd"
   },
   "outputs": [],
   "source": [
    "plt.plot(epochs_hist.history['loss'])\n",
    "plt.plot(epochs_hist.history['val_loss'])\n",
    "plt.title('Model Loss Progress During Training')\n",
    "plt.ylabel('Training and Validation Loss')\n",
    "plt.xlabel('Epoch number')\n",
    "plt.legend(['Training Loss', 'Validation Loss'])"
   ]
  },
  {
   "cell_type": "code",
   "execution_count": null,
   "metadata": {
    "colab": {
     "base_uri": "https://localhost:8080/",
     "height": 295
    },
    "id": "MtWvIF6TngHj",
    "outputId": "f920ce4c-d38f-496e-9852-5965fcc2d80a"
   },
   "outputs": [],
   "source": [
    "y_predict = model.predict(X_test)\n",
    "plt.plot(y_test, y_predict, \"o\", color = 'r')\n",
    "plt.xlabel(\"Model Predictions\")\n",
    "plt.ylabel(\"True Value (ground Truth)\")\n",
    "plt.title('Linear Regression Predictions')\n",
    "plt.show()"
   ]
  },
  {
   "cell_type": "code",
   "execution_count": null,
   "metadata": {
    "id": "AqRDrz5Znp0y"
   },
   "outputs": [],
   "source": [
    "y_predict_orig = scaler.inverse_transform(y_predict)\n",
    "y_test_orig = scaler.inverse_transform(y_test)\n"
   ]
  },
  {
   "cell_type": "code",
   "execution_count": null,
   "metadata": {
    "colab": {
     "base_uri": "https://localhost:8080/",
     "height": 295
    },
    "id": "p3ZWmxxbn5Bc",
    "outputId": "faa60deb-bf0e-409f-8c67-520308fe9497"
   },
   "outputs": [],
   "source": [
    "plt.plot(y_test_orig, y_predict_orig, \"^\", color = 'r')\n",
    "plt.xlabel(\"Model Predictions\")\n",
    "plt.ylabel(\"True Value (ground Truth)\")\n",
    "plt.title('Linear Regression Predictions')\n",
    "plt.show()"
   ]
  },
  {
   "cell_type": "code",
   "execution_count": null,
   "metadata": {
    "colab": {
     "base_uri": "https://localhost:8080/",
     "height": 102
    },
    "id": "AFAXa0BIoRiQ",
    "outputId": "2ad932ce-01f0-4d50-8fc3-e9b820d22e0c"
   },
   "outputs": [],
   "source": [
    "from sklearn.metrics import r2_score, mean_squared_error, mean_absolute_error\n",
    "from math import sqrt\n",
    "\n",
    "RMSE = float(format(np.sqrt(mean_squared_error(y_test_orig, y_predict_orig)),'.3f'))\n",
    "MSE = mean_squared_error(y_test_orig, y_predict_orig)\n",
    "MAE = mean_absolute_error(y_test_orig, y_predict_orig)\n",
    "r2 = r2_score(y_test_orig, y_predict_orig)\n",
    "adj_r2 = 1-(1-r2)*(n-1)/(n-k-1)\n",
    "\n",
    "print('RMSE =',RMSE, '\\nMSE =',MSE, '\\nMAE =',MAE, '\\nR2 =', r2, '\\nAdjusted R2 =', adj_r2) \n"
   ]
  },
  {
   "cell_type": "markdown",
   "metadata": {
    "id": "J1bd1KCSpPKH"
   },
   "source": [
    "**Good model with 88% accuracy to predict house prices from historical data.**"
   ]
  },
  {
   "cell_type": "code",
   "execution_count": null,
   "metadata": {},
   "outputs": [],
   "source": [
    "from tensorflow.keras.models import load_model"
   ]
  },
  {
   "cell_type": "code",
   "execution_count": null,
   "metadata": {},
   "outputs": [],
   "source": [
    "tf.keras.models.save_model(model,'ann_model.h5')"
   ]
  },
  {
   "cell_type": "code",
   "execution_count": null,
   "metadata": {},
   "outputs": [],
   "source": [
    "#10, 5492885819312364962500198509825047.5601-122.089835003700\n",
    "\n",
    "#predann 1322184960.0\n",
    "#predrf 2182392.88"
   ]
  },
  {
   "cell_type": "code",
   "execution_count": null,
   "metadata": {},
   "outputs": [],
   "source": [
    "#file = open('ANN_model.pkl', 'wb')\n",
    "\n",
    "# dump information to that file\n",
    "#pickle.dump(model, file)"
   ]
  }
 ],
 "metadata": {
  "colab": {
   "name": "House Price Prediction in Washington DC.ipynb",
   "provenance": [],
   "toc_visible": true
  },
  "kernelspec": {
   "display_name": "Python 3 (ipykernel)",
   "language": "python",
   "name": "python3"
  },
  "language_info": {
   "codemirror_mode": {
    "name": "ipython",
    "version": 3
   },
   "file_extension": ".py",
   "mimetype": "text/x-python",
   "name": "python",
   "nbconvert_exporter": "python",
   "pygments_lexer": "ipython3",
   "version": "3.9.13"
  }
 },
 "nbformat": 4,
 "nbformat_minor": 4
}
